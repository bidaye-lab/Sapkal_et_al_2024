{
 "cells": [
  {
   "cell_type": "code",
   "execution_count": null,
   "metadata": {},
   "outputs": [],
   "source": [
    "import os\n",
    "import numpy as np\n",
    "import glob as glob\n",
    "import pandas as pd\n",
    "from pathlib import Path\n",
    "from scipy.io import loadmat\n",
    "import matplotlib.pyplot as plt\n",
    "import math\n",
    "import seaborn as sns\n",
    "import scipy \n",
    "from matplotlib.ticker import MultipleLocator\n",
    "import sklearn\n",
    "from sklearn.neighbors import KernelDensity\n",
    "from sklearn.model_selection import GridSearchCV\n",
    "from scipy.ndimage import gaussian_filter1d"
   ]
  },
  {
   "cell_type": "markdown",
   "metadata": {},
   "source": [
    "# Import Data"
   ]
  },
  {
   "cell_type": "code",
   "execution_count": null,
   "metadata": {},
   "outputs": [],
   "source": [
    "FOMO = pd.read_parquet(r'C:\\1_Stop_project_allData\\FOMO_coactivation\\3_DataStructures_FOMO\\ball_predictions\\FOMO_older\\ball_predictions\\FOMO_older\\df_ballpredictn.parquet', engine='pyarrow')\n",
    "FOMO_Stop1_R  = pd.read_parquet(r\"C:\\1_Stop_project_allData\\FOMO_coactivation\\1_DataStructures_coact_R\\ball_predictions\\FOMO_Stop1_R\\df_ballpredictn.parquet\", engine='pyarrow')\n",
    "FOMO_Stop1_W = pd.read_parquet(r'C:\\1_Stop_project_allData\\FOMO_coactivation\\2_DataStrictures_coact_W\\data\\df_preproc.parquet', engine='pyarrow')\n",
    "# Stop1_all = pd.read_parquet(r'C:\\1_Stop_project_allData\\Stops_data_coactn\\ballfitting\\data\\df_preproc.parquet', engine='pyarrow')\n",
    "# Stop1 = Stop1_all.loc[Stop1_all['genotype'] == 'Stop1_forMDN']"
   ]
  },
  {
   "cell_type": "code",
   "execution_count": null,
   "metadata": {},
   "outputs": [],
   "source": [
    "FOMO_Stop1_R = FOMO_Stop1_R.loc[FOMO_Stop1_R['flynum']!=11]"
   ]
  },
  {
   "cell_type": "markdown",
   "metadata": {},
   "source": [
    "# Heatmaps"
   ]
  },
  {
   "cell_type": "code",
   "execution_count": null,
   "metadata": {},
   "outputs": [],
   "source": [
    "def plot_heatmaps(df, title, angle):\n",
    "    \"\"\"\n",
    "    # Plots Fe-Ti joint angle as a heatmap\n",
    "\n",
    "    Parameters\n",
    "    ----------\n",
    "    df : dataframe\n",
    "    title : title for plot\n",
    "    \"\"\"\n",
    "    plt.rcParams['figure.figsize'] = (10,7)\n",
    "    fig, ax = plt.subplots(3,2, sharex = True, sharey = True)\n",
    "    vmin = 0\n",
    "    vmax = 150\n",
    "    cmap = 'coolwarm'\n",
    "    \n",
    "\n",
    "    sns.heatmap(ax = ax[0,0], data = np.array(df['L1' + angle]).reshape((int(len(df)/1400)), 1400), vmin = vmin, vmax = vmax, cmap = cmap, cbar=True)\n",
    "    sns.heatmap(ax = ax[1,0], data = np.array(df['L2' + angle]).reshape((int(len(df)/1400)), 1400), vmin = vmin, vmax = 100, cmap = cmap, cbar=True)\n",
    "    sns.heatmap(ax = ax[2,0], data = np.array(df['L3' + angle]).reshape((int(len(df)/1400)), 1400), vmin = vmin, vmax = vmax, cmap = cmap, cbar=True)\n",
    "    sns.heatmap(ax = ax[0,1], data = np.array(df['R1' + angle]).reshape((int(len(df)/1400)), 1400), vmin = vmin, vmax = vmax, cmap = cmap, cbar=True)\n",
    "    sns.heatmap(ax = ax[1,1], data = np.array(df['R2' + angle]).reshape((int(len(df)/1400)), 1400), vmin = vmin, vmax = 100, cmap = cmap, cbar=True)\n",
    "    sns.heatmap(ax = ax[2,1], data = np.array(df['R3' + angle]).reshape((int(len(df)/1400)), 1400), vmin = vmin, vmax = vmax, cmap = cmap, cbar=True)\n",
    "    ax[0,0].axvline(x = 400, color = 'k', alpha = 0.7, linestyle = '--')\n",
    "    ax[1,0].axvline(x = 400, color = 'k', alpha = 0.7, linestyle = '--')\n",
    "    ax[2,0].axvline(x = 400, color = 'k', alpha = 0.7, linestyle = '--')\n",
    "    ax[0,1].axvline(x = 400, color = 'k', alpha = 0.7, linestyle = '--')\n",
    "    ax[1,1].axvline(x = 400, color = 'k', alpha = 0.7, linestyle = '--')\n",
    "    ax[2,1].axvline(x = 400, color = 'k', alpha = 0.7, linestyle = '--')\n",
    "\n",
    "    ax[0,0].axvline(x = 1000, color = 'k', alpha = 0.7, linestyle = '--')\n",
    "    ax[1,0].axvline(x = 1000, color = 'k', alpha = 0.7, linestyle = '--')\n",
    "    ax[2,0].axvline(x = 1000, color = 'k', alpha = 0.7, linestyle = '--')\n",
    "    ax[0,1].axvline(x = 1000, color = 'k', alpha = 0.7, linestyle = '--')\n",
    "    ax[1,1].axvline(x = 1000, color = 'k', alpha = 0.7, linestyle = '--')\n",
    "    ax[2,1].axvline(x = 1000, color = 'k', alpha = 0.7, linestyle = '--')\n",
    "    plt.suptitle(title +' - ' + angle)\n",
    "    plt.tight_layout()\n",
    "    # plt.savefig(r'Z:\\STOP PROJECT SHARED FOLDER\\Fig2\\07222023\\1_Heatmaps\\ES_66Hz.eps', format = 'eps',dpi = 300)\n",
    "    # plt.savefig(r'Z:\\STOP PROJECT SHARED FOLDER\\Fig2\\07222023\\1_Heatmaps\\ES_66Hz.tiff',format = 'tiff' ,dpi = 300)\n",
    "    plt.show()"
   ]
  },
  {
   "cell_type": "code",
   "execution_count": null,
   "metadata": {},
   "outputs": [],
   "source": [
    "plot_heatmaps(FOMO, 'FOMO', 'C_flex')"
   ]
  },
  {
   "cell_type": "code",
   "execution_count": null,
   "metadata": {},
   "outputs": [],
   "source": [
    "plot_heatmaps(FOMO_Stop1_R, 'FOMO_Stop1_R', 'C_flex')"
   ]
  },
  {
   "cell_type": "code",
   "execution_count": null,
   "metadata": {},
   "outputs": [],
   "source": [
    "# plot_heatmaps(FOMO_Stop1_W, 'FOMO_Stop1_W', 'C_flex')"
   ]
  },
  {
   "cell_type": "code",
   "execution_count": null,
   "metadata": {},
   "outputs": [],
   "source": [
    "# def get_std_dev(df, angle):\n",
    "#     Std_dev = []\n",
    "#     for N in df['flynum'].unique().tolist():\n",
    "#         for t in df.groupby('flynum').get_group(N)['tnum'].unique().tolist():\n",
    "#             data = df.groupby('flynum').get_group(N).groupby('tnum').get_group(t)\n",
    "#             temp_ang = data[angle]\n",
    "#             val_at_ON = np.mean(temp_ang[400:410])\n",
    "#             change_arr = temp_ang[410:1000] - val_at_ON\n",
    "#             std = np.std(change_arr, axis = 0)\n",
    "#             Std_dev.append(std)\n",
    "#     return Std_dev"
   ]
  },
  {
   "cell_type": "code",
   "execution_count": null,
   "metadata": {},
   "outputs": [],
   "source": [
    "# plt.rcParams['figure.figsize'] = (15,10)\n",
    "# fig, ax = plt.subplots(2,3)\n",
    "# sns.swarmplot(data = All_std_L1C, ax = ax[0,0], x = 'name', y=0, hue=\"name\", palette = 'husl', size=3, legend = False)\n",
    "# sns.swarmplot(data = All_std_L1B, ax = ax[0,1], x = 'name', y=0, hue=\"name\", palette = 'husl', size=3, legend = False)\n",
    "# sns.swarmplot(data = All_std_L1A, ax = ax[0,2], x = 'name', y=0, hue=\"name\", palette = 'husl', size=3, legend = False)\n",
    "\n",
    "# sns.swarmplot(data = All_std_R1C, ax = ax[1,0], x = 'name', y=0, hue=\"name\", palette = 'husl', size=3, legend = False)\n",
    "# sns.swarmplot(data = All_std_R1B, ax = ax[1,1], x = 'name', y=0, hue=\"name\", palette = 'husl', size=3, legend = False)\n",
    "# sns.swarmplot(data = All_std_R1A, ax = ax[1,2], x = 'name', y=0, hue=\"name\", palette = 'husl', size=3, legend = False)\n"
   ]
  },
  {
   "cell_type": "code",
   "execution_count": null,
   "metadata": {},
   "outputs": [],
   "source": [
    "# def get_change_in_FeTi(df, angle):\n",
    "#     change = pd.DataFrame()\n",
    "#     for N in df['flynum'].unique().tolist():\n",
    "#         for t in df.groupby('flynum').get_group(N)['tnum'].unique().tolist():\n",
    "#             data = df.groupby('flynum').get_group(N).groupby('tnum').get_group(t)\n",
    "#             temp_ang = data[angle]\n",
    "#             val_at_ON = np.mean(temp_ang[400:410])\n",
    "#             change_arr = temp_ang[410:1000] - val_at_ON\n",
    "#             change = pd.concat([change, pd.DataFrame(change_arr).reset_index(drop=True)], axis = 1)\n",
    "#     return change"
   ]
  },
  {
   "cell_type": "code",
   "execution_count": null,
   "metadata": {},
   "outputs": [],
   "source": []
  },
  {
   "cell_type": "markdown",
   "metadata": {},
   "source": [
    "# Plot all data"
   ]
  },
  {
   "cell_type": "code",
   "execution_count": null,
   "metadata": {},
   "outputs": [],
   "source": [
    "def plot_all_trials (df):\n",
    "   \n",
    "    i = 0\n",
    "    plt.rcParams['figure.figsize'] = (15,2)\n",
    "    for n in df['flynum'].unique().tolist():\n",
    "        for t in df.groupby('flynum').get_group(n)['tnum'].unique().tolist():\n",
    "            data = df.groupby('flynum').get_group(n).groupby('tnum').get_group(t).reset_index(drop=True)\n",
    "            print((n,t))\n",
    "            SC_temp_LH = data['L-H_stepcycle'][400:1000]\n",
    "            SC_temp_RH = data['R-H_stepcycle'][400:1000]\n",
    "\n",
    "            # SC_temp_LM = data['L-M_stepcycle'][400:1000]\n",
    "            # SC_temp_RM = data['R-M_stepcycle'][400:1000]\n",
    "\n",
    "            SC_temp_LF = data['L-F_stepcycle'][400:1000]\n",
    "            SC_temp_RF = data['R-F_stepcycle'][400:1000]\n",
    "\n",
    "            # SC_temp_LF = pd.DataFrame(abs(np.diff(data['L1C_flex']))>4)\n",
    "            # SC_temp_RF = pd.DataFrame(abs(np.diff(data['R1C_flex']))>4)\n",
    "            \n",
    "            # val = idx[i]    ##comment out for no vel\n",
    "            # fwd_vel = data['x_vel']\n",
    "            # ang_vel = data['z_vel']\n",
    "\n",
    "            L1_ang = data['L1C_flex']\n",
    "            R1_ang = data['R1C_flex']\n",
    "\n",
    "            L2_ang = data['L2C_flex']\n",
    "            R2_ang = data['R2C_flex']\n",
    "\n",
    "            L3_ang = data['L3C_flex']\n",
    "            R3_ang = data['R3C_flex']\n",
    "            fig, ax = plt.subplots (1,2)\n",
    "            # ax[0].plot(fwd_vel*10, label = 'fwd')\n",
    "            # ax[0].plot(ang_vel*10, label = 'ang')\n",
    "            # ax[0].axvline(x = val) ## comment out for no vel\n",
    "            # ax[1].plot(fwd_vel*10, label = 'fwd')\n",
    "            # ax[1].plot(ang_vel*10, label = 'ang')\n",
    "            ax[1].plot(L1_ang, label = 'F-left leg')\n",
    "            ax[1].plot(R1_ang, label = 'F-right leg')\n",
    "\n",
    "            # ax[1].plot(L2_ang, label = 'M-left leg')\n",
    "            # ax[1].plot(R2_ang, label = 'M-right leg')\n",
    "\n",
    "            ax[0].plot(L3_ang, label = 'H-left leg')\n",
    "            ax[0].plot(R3_ang, label = 'H-right leg')\n",
    "            # ax[1].axvline(x = val)  ## comment out for no vel\n",
    "            ax[0].legend( loc='upper right')\n",
    "            ax[1].legend( loc='upper right')\n",
    "            # ax[1].axvline(x = val - 50, color = 'k', ls = '--')  ## comment out for no vel\n",
    "            # ax[1].axvline(x = val + 50, color = 'k', ls = '--')  ## comment out for no vel\n",
    "            # ax[1].axvline(x = 400, color = 'r', ls = '--')\n",
    "            # ax[1].axvline(x = 1000, color = 'r', ls = '--') \n",
    "            # ax[1].axvline(x = 600, color = 'r', ls = '--')  \n",
    "\n",
    "            # for swing in SC_temp_LF.loc[SC_temp_LF[0] == True].index.tolist():\n",
    "            #     ax[1].axvline (x = swing+1, color = 'grey', alpha= 0.1)\n",
    "            # for swing in SC_temp_RF.loc[SC_temp_RF[0] == True].index.tolist():\n",
    "            #     ax[1].axvline (x = swing+1, color = 'r', alpha= 0.1)\n",
    "\n",
    "            for swing in SC_temp_LH.loc[SC_temp_LH == False].index.tolist():\n",
    "                ax[0].axvline (x = swing, color = 'grey', alpha= 0.1)\n",
    "            for swing in SC_temp_RH.loc[SC_temp_RH == False].index.tolist():\n",
    "                ax[0].axvline (x = swing, color = 'r', alpha= 0.1)\n",
    "\n",
    "            # for swing in SC_temp_LM.loc[SC_temp_LM == False].index.tolist():\n",
    "            #     ax[1].axvline (x = swing, color = 'grey', alpha= 0.1)\n",
    "            # for swing in SC_temp_RM.loc[SC_temp_RM == False].index.tolist():\n",
    "            #     ax[1].axvline (x = swing, color = 'r', alpha= 0.1)\n",
    "\n",
    "            for swing in SC_temp_LF.loc[SC_temp_LF == False].index.tolist():\n",
    "                ax[1].axvline (x = swing, color = 'grey', alpha= 0.1)\n",
    "            for swing in SC_temp_RF.loc[SC_temp_RF == False].index.tolist():\n",
    "                ax[1].axvline (x = swing, color = 'r', alpha= 0.1)\n",
    "\n",
    "            plt.show()\n",
    "            \n",
    "            i+=1"
   ]
  },
  {
   "cell_type": "code",
   "execution_count": null,
   "metadata": {},
   "outputs": [],
   "source": [
    "# plot_all_trials(Stop1)"
   ]
  },
  {
   "cell_type": "markdown",
   "metadata": {},
   "source": [
    "# Swing events"
   ]
  },
  {
   "cell_type": "code",
   "execution_count": null,
   "metadata": {},
   "outputs": [],
   "source": [
    "## get FeTi angle range where the reset happen\n",
    "def get_front_leg_SC (df, leg):\n",
    "    if leg == 'L1':\n",
    "        sc = 'L-F_stepcycle'\n",
    "        angle = 'L1C_flex'\n",
    "    if leg =='R1':\n",
    "        sc = 'R-F_stepcycle'\n",
    "        angle = 'R1C_flex'\n",
    "        \n",
    "    reset_ang = []\n",
    "    swing_count = [] # number of separate events predicted to be swings from ball prediction and accompanied by a sudden, large change in angle\n",
    "\n",
    "    for n in df['flynum'].unique().tolist():\n",
    "        for t in df.groupby('flynum').get_group(n)['tnum'].unique().tolist():\n",
    "            data = df.groupby('flynum').get_group(n).groupby('tnum').get_group(t).reset_index(drop=True)\n",
    "\n",
    "            sc_temp = pd.DataFrame(data[sc])\n",
    "            ang = data[angle]\n",
    "            \n",
    "            sc_diff = pd.DataFrame(np.diff(sc_temp[sc].astype(int)))\n",
    "            swing_init =sc_diff.loc[sc_diff[0] == -1].index.tolist() # index from diff ==> add idx = 1 \n",
    "            \n",
    "            swing_count.append(len(swing_init))\n",
    "            for i in swing_init:\n",
    "                if((i>400) & (i<1000)):\n",
    "                    temp_ang = ang[i]\n",
    "                    reset_ang.append(temp_ang)\n",
    "\n",
    "    return reset_ang, swing_count"
   ]
  },
  {
   "cell_type": "code",
   "execution_count": null,
   "metadata": {},
   "outputs": [],
   "source": [
    "reset_ang_FOMO_L1, swing_count_FOMO_L1 = get_front_leg_SC (FOMO, 'L1')\n",
    "reset_ang_FOMO_R1, swing_count_FOMO_R1 = get_front_leg_SC (FOMO, 'R1')\n",
    "\n",
    "\n",
    "reset_ang_FOMO_Stop1_R_L1, swing_count_FOMO_Stop1_R_L1 = get_front_leg_SC (FOMO_Stop1_R, 'L1')\n",
    "reset_ang_FOMO_Stop1_R_R1, swing_count_FOMO_Stop1_R_R1 = get_front_leg_SC (FOMO_Stop1_R, 'R1')\n",
    "\n",
    "reset_ang_FOMO_Stop1_W_L1, swing_count_FOMO_Stop1_W_L1 = get_front_leg_SC (FOMO_Stop1_W, 'L1')\n",
    "reset_ang_FOMO_Stop1_W_R1, swing_count_FOMO_Stop1_W_R1 = get_front_leg_SC (FOMO_Stop1_W, 'R1')\n",
    "\n",
    "# reset_ang_Stop1_L1, swing_count_Stop1_L1 = get_front_leg_SC (Stop1, 'L1')\n",
    "# reset_ang_Stop1_R1, swing_count_Stop1_R1 = get_front_leg_SC (Stop1, 'R1')\n"
   ]
  },
  {
   "cell_type": "code",
   "execution_count": null,
   "metadata": {},
   "outputs": [],
   "source": [
    "reset_count_Flegs= pd.DataFrame([swing_count_FOMO_L1, swing_count_FOMO_R1, swing_count_FOMO_Stop1_R_L1, swing_count_FOMO_Stop1_R_R1, swing_count_FOMO_Stop1_W_L1, swing_count_FOMO_Stop1_W_R1 ]).T\n",
    "reset_count_Flegs.columns = ['FOMO_L1', 'FOMO_R1', 'FOMO_Stop1_R_L1', 'FOMO_Stop1_R_R1', 'FOMO_Stop1_W_L1', 'FOMO_Stop1_W_R1']"
   ]
  },
  {
   "cell_type": "code",
   "execution_count": null,
   "metadata": {},
   "outputs": [],
   "source": [
    "plt.rcParams['figure.figsize'] = (15,5)\n",
    "sns.swarmplot(reset_count_Flegs, size = 2)\n",
    "\n",
    "plt.title('Reset Count (proxy for step count)')\n",
    "plt.show()"
   ]
  },
  {
   "cell_type": "code",
   "execution_count": null,
   "metadata": {},
   "outputs": [],
   "source": [
    "# sns.swarmplot(reset_ang_FOMO_L1)\n",
    "# sns.swarmplot(reset_ang_FOMO_R1)"
   ]
  },
  {
   "cell_type": "code",
   "execution_count": null,
   "metadata": {},
   "outputs": [],
   "source": [
    "# plt.rcParams['figure.figsize'] = (10,2)\n",
    "# df = FOMO_Stop1_R\n",
    "# for n in df['flynum'].unique().tolist():\n",
    "#     for t in df.groupby('flynum').get_group(n)['tnum'].unique().tolist():\n",
    "#         data = df.groupby('flynum').get_group(n).groupby('tnum').get_group(t).reset_index(drop=True)\n",
    "\n",
    "#         SC = data['L-F_stepcycle']\n",
    "\n",
    "#         plt.plot(data['L1C_flex'][300:1000])\n",
    "#         plt.plot(SC * 150)\n",
    "#         # plt.axhline(y=95, color = 'k')\n",
    "#         plt.xlim(300,1000)\n",
    "#         plt.show()"
   ]
  },
  {
   "cell_type": "code",
   "execution_count": null,
   "metadata": {},
   "outputs": [],
   "source": [
    "len(reset_ang_FOMO_L1 + reset_ang_FOMO_R1)"
   ]
  },
  {
   "cell_type": "code",
   "execution_count": null,
   "metadata": {},
   "outputs": [],
   "source": [
    "# # pool L1 & R1\n",
    "reset_ang_pooled_FOMO_F = pd.concat([pd.DataFrame(reset_ang_FOMO_L1),pd.DataFrame(reset_ang_FOMO_R1)], axis = 0)\n",
    "np.percentile(reset_ang_pooled_FOMO_F, q = [10, 25,75,  90])"
   ]
  },
  {
   "cell_type": "code",
   "execution_count": null,
   "metadata": {},
   "outputs": [],
   "source": [
    "reset_ang_pooled_FOMO_F.columns = ['FOMO_F_SIZ']"
   ]
  },
  {
   "cell_type": "code",
   "execution_count": null,
   "metadata": {},
   "outputs": [],
   "source": [
    "reset_ang_pooled_FOMO_Stop1_F = pd.concat([pd.DataFrame(reset_ang_FOMO_Stop1_R_L1),pd.DataFrame(reset_ang_FOMO_Stop1_R_R1)], axis = 0)\n",
    "reset_ang_pooled_FOMO_Stop1_F.columns = ['FOMO_Stop1_F_SIZ']"
   ]
  },
  {
   "cell_type": "code",
   "execution_count": null,
   "metadata": {},
   "outputs": [],
   "source": [
    "len(reset_ang_FOMO_L1 + reset_ang_FOMO_R1)"
   ]
  },
  {
   "cell_type": "code",
   "execution_count": null,
   "metadata": {},
   "outputs": [],
   "source": [
    "plt.rcParams['figure.figsize'] = (8,5)\n",
    "swing_init_ang = pd.concat([pd.DataFrame([(reset_ang_FOMO_L1 + reset_ang_FOMO_R1)]).T , pd.DataFrame([(reset_ang_FOMO_Stop1_R_L1 + reset_ang_FOMO_Stop1_R_R1)]).T], axis = 1)\n",
    "swing_init_ang.columns = ['BDN2', 'BDN2_BRK']\n",
    "sns.swarmplot(swing_init_ang, palette=  ['indigo', 'darkcyan'])\n",
    "plt.axhline (y = 68, color = 'maroon')\n",
    "plt.xlim(-1,  2)\n",
    "plt.ylim(0, 140)\n",
    "plt.fill_between( [-1,  2], y1 = 0, y2 = 68, color = 'r',alpha = 0.2)\n",
    "# plt.savefig(r'Z:\\Divya\\TEMP_transfers\\toSB\\0_StopPAper_revision\\3_Coactivation_Revised\\BDN2_BRK\\Front\\swing_init_ang.svg', dpi = 300)\n",
    "\n",
    "# swing_init_ang.to_csv(r'Z:\\Divya\\TEMP_transfers\\toSB\\0_StopPAper_revision\\3_Coactivation_Revised\\BDN2_BRK\\Front\\swing_init_ang.csv', index = False)"
   ]
  },
  {
   "cell_type": "code",
   "execution_count": null,
   "metadata": {},
   "outputs": [],
   "source": [
    "def get_stepping_params_Fleg (df, leg, angle):\n",
    "    if 'A_flex' in angle:\n",
    "        range_upper_lim = 111 # A_flex\n",
    "    elif 'B_flex' in angle:\n",
    "        range_upper_lim = 37 # B_flex\n",
    "    elif 'C_flex' in angle:\n",
    "        range_upper_lim = 68 # C_flex\n",
    "    elif 'D_flex' in angle:\n",
    "        range_upper_lim = 155 # D_flex\n",
    "        \n",
    "    if leg == 'L1':\n",
    "        sc = 'L-F_stepcycle'\n",
    "    if leg == 'R1':\n",
    "        sc = 'R-F_stepcycle'\n",
    "    \n",
    "    count_SIZ_reached = []\n",
    "    swing_events_within_SIZ = []\n",
    "    percentage_swings_per_trial = []\n",
    "    SIZ_dwell_time = []\n",
    "\n",
    "\n",
    "    for n in df['flynum'].unique().tolist():\n",
    "        for t in df.groupby('flynum').get_group(n)['tnum'].unique().tolist():\n",
    "            data = df.groupby('flynum').get_group(n).groupby('tnum').get_group(t).reset_index(drop=True)\n",
    "            sc_df_temp = data[sc]\n",
    "            temp_ang = pd.DataFrame(data[angle]).iloc[400:1000]\n",
    "\n",
    "            list_in_range = temp_ang.loc[(temp_ang[angle] <range_upper_lim)].index.tolist() #time indices of all events when angle is in the reset rang\n",
    "            if len(list_in_range)>0 :\n",
    "    \n",
    "                break_pt = np.split(list_in_range, np.where(np.diff(list_in_range)>1)[0]+1) #breaking time indices into events---> number of times when the angle is reached\n",
    "\n",
    "                range_count_temp = len(break_pt) # number of times the SIZ was achieved in trial\n",
    "                count_SIZ_reached.append(range_count_temp)\n",
    "\n",
    "                trial_SIZ_dwell_time = []\n",
    "                swing_events_temp = []\n",
    "\n",
    "                for event in break_pt:\n",
    "                    # print(event)\n",
    "                    SIZ_dwell_time.append(len(event))\n",
    "                    leg_state = sc_df_temp[event+1].tolist()\n",
    "                    \n",
    "                    # print(leg_state)\n",
    "                    if False in leg_state:\n",
    "                        # print('swing detected!!')\n",
    "                        swing_events_temp.append('True')\n",
    "\n",
    "                # SIZ_dwell_time.append(np.mean(trial_SIZ_dwell_time))\n",
    "                swing_events_within_SIZ.append(len(swing_events_temp))\n",
    "                percentage_swings_per_trial.append((len(swing_events_temp)/range_count_temp)*100)\n",
    "            else:\n",
    "                count_SIZ_reached.append(len(list_in_range))\n",
    "    return count_SIZ_reached, swing_events_within_SIZ, percentage_swings_per_trial, SIZ_dwell_time"
   ]
  },
  {
   "cell_type": "code",
   "execution_count": null,
   "metadata": {},
   "outputs": [],
   "source": [
    "headers = ['FOMO', 'FOMO+Stop1']  "
   ]
  },
  {
   "cell_type": "code",
   "execution_count": null,
   "metadata": {},
   "outputs": [],
   "source": [
    "ang_name = 'C_flex'\n",
    "count_SIZ_FOMO_L1, SIZ_swings_FOMO_L1, percentage_FOMO_L1, SIZ_dwell_time_FOMO_L1 = get_stepping_params_Fleg (FOMO, 'L1', 'L1'+ang_name)\n",
    "count_SIZ_FOMO_R1, SIZ_swings_FOMO_R1, percentage_FOMO_R1, SIZ_dwell_time_FOMO_R1 = get_stepping_params_Fleg (FOMO, 'R1', 'R1'+ang_name)\n",
    "\n",
    "count_SIZ_FOMO_Stop1_R_L1, SIZ_swings_FOMO_Stop1_R_L1, percentage_FOMO_Stop1_R_L1, SIZ_dwell_time_FOMO_Stop1_R_L1 = get_stepping_params_Fleg (FOMO_Stop1_R, 'L1', 'L1'+ang_name)\n",
    "count_SIZ_FOMO_Stop1_R_R1, SIZ_swings_FOMO_Stop1_R_R1, percentage_FOMO_Stop1_R_R1, SIZ_dwell_time_FOMO_Stop1_R_R1 = get_stepping_params_Fleg (FOMO_Stop1_R, 'R1', 'R1'+ang_name)\n",
    "\n",
    "# count_SIZ_FOMO_Stop1_W_L1, SIZ_swings_FOMO_Stop1_W_L1, percentage_FOMO_Stop1_W_L1, SIZ_dwell_time_FOMO_Stop1_W_L1 = get_stepping_params_Fleg (FOMO_Stop1_W, 'L1', 'L1'+ang_name)\n",
    "# count_SIZ_FOMO_Stop1_W_R1, SIZ_swings_FOMO_Stop1_W_R1, percentage_FOMO_Stop1_W_R1, SIZ_dwell_time_FOMO_Stop1_W_R1 = get_stepping_params_Fleg (FOMO_Stop1_W, 'R1', 'R1'+ang_name)"
   ]
  },
  {
   "cell_type": "code",
   "execution_count": null,
   "metadata": {},
   "outputs": [],
   "source": [
    "len(SIZ_dwell_time_FOMO_Stop1_R_L1+ SIZ_dwell_time_FOMO_Stop1_R_L1)"
   ]
  },
  {
   "cell_type": "code",
   "execution_count": null,
   "metadata": {},
   "outputs": [],
   "source": [
    "dwell_time_Flegs_pooled = pd.concat([pd.concat([pd.DataFrame(SIZ_dwell_time_FOMO_L1),pd.DataFrame(SIZ_dwell_time_FOMO_R1)]).reset_index(drop=True),\n",
    "                                    pd.concat([pd.DataFrame(SIZ_dwell_time_FOMO_Stop1_R_L1),pd.DataFrame(SIZ_dwell_time_FOMO_Stop1_R_R1)]).reset_index(drop=True)], axis =1)\n",
    "dwell_time_Flegs_pooled.columns = headers      \n",
    "# dwell_time_Flegs_pooled.to_csv(r'Z:\\Divya\\TEMP_transfers\\toSB\\0_StopPAper_revision\\3_Coactivation_Revised\\BDN2_BRK\\Front\\DT_'+ang_name+'.csv')    \n",
    "\n",
    "plt.rcParams['figure.figsize'] = (14,5)\n",
    "\n",
    "sns.boxplot(dwell_time_Flegs_pooled, palette = 'Reds')\n",
    "sns.swarmplot(dwell_time_Flegs_pooled, size = 3, palette = 'Greys')\n",
    "\n",
    "plt.yticks(np.arange(0,800,200), np.arange(0,4,1))\n",
    "plt.title('SIZ dwell time '+ ang_name)\n",
    "# plt.savefig(r'Z:\\Divya\\TEMP_transfers\\toSB\\0_StopPAper_revision\\3_Coactivation_Revised\\BDN2_BRK\\Front\\DwellTime_'+ang_name+'.svg', dpi = 300)"
   ]
  },
  {
   "cell_type": "code",
   "execution_count": null,
   "metadata": {},
   "outputs": [],
   "source": [
    "count_SIZ_Flegs_pooled = pd.concat([pd.concat([pd.DataFrame(count_SIZ_FOMO_L1),pd.DataFrame(count_SIZ_FOMO_R1)]).reset_index(drop=True),\n",
    "                                    pd.concat([pd.DataFrame(count_SIZ_FOMO_Stop1_R_L1),pd.DataFrame(count_SIZ_FOMO_Stop1_R_R1)]).reset_index(drop=True)], axis =1)\n",
    "count_SIZ_Flegs_pooled.columns = headers        \n",
    "# count_SIZ_Flegs_pooled.to_csv(r'Z:\\Divya\\TEMP_transfers\\toSB\\0_StopPAper_revision\\3_Coactivation_Revised\\BDN2_BRK\\Front\\Count_'+ang_name+'.csv') \n",
    "\n",
    "plt.rcParams['figure.figsize'] = (14,5)\n",
    "\n",
    "sns.boxplot(count_SIZ_Flegs_pooled, palette = 'Reds')\n",
    "sns.swarmplot(count_SIZ_Flegs_pooled, size = 1.5, palette = 'Greys')\n",
    "\n",
    "# plt.yticks(np.arange(0,13,2))\n",
    "plt.title('Number of times leg reached SIZ')\n",
    "# plt.savefig(r'Z:\\Divya\\TEMP_transfers\\toSB\\0_StopPAper_revision\\3_Coactivation_Revised\\BDN2_BRK\\Front\\SIZ_Count_'+ang_name+'.svg', dpi = 300)"
   ]
  },
  {
   "cell_type": "code",
   "execution_count": null,
   "metadata": {},
   "outputs": [],
   "source": [
    "percentage_swings_SIZ_Flegs_pooled = pd.concat([pd.concat([pd.DataFrame(percentage_FOMO_L1),pd.DataFrame(percentage_FOMO_R1)]).reset_index(drop=True),\n",
    "                                    pd.concat([pd.DataFrame(percentage_FOMO_Stop1_R_L1),pd.DataFrame(percentage_FOMO_Stop1_R_R1)]).reset_index(drop=True)], axis =1)\n",
    "percentage_swings_SIZ_Flegs_pooled.columns = headers    \n",
    "# percentage_swings_SIZ_Flegs_pooled.to_csv(r'Z:\\Divya\\TEMP_transfers\\toSB\\0_StopPAper_revision\\3_Coactivation_Revised\\BDN2_BRK\\Front\\PS_'+ang_name+'.csv') \n",
    "\n",
    "plt.rcParams['figure.figsize'] = (14,5)\n",
    "\n",
    "\n",
    "sns.boxplot(percentage_swings_SIZ_Flegs_pooled, palette = 'Reds')\n",
    "sns.swarmplot(percentage_swings_SIZ_Flegs_pooled, size = 1.5, palette = 'Greys')\n",
    "\n",
    "# plt.yticks(np.arange(0,13,2))\n",
    "plt.title('Percentage of SIZ events where Swings ocured')\n",
    "# plt.savefig(r'Z:\\Divya\\TEMP_transfers\\toSB\\0_StopPAper_revision\\3_Coactivation_Revised\\BDN2_BRK\\Front\\Percent_Swings_'+ang_name+'.svg', dpi = 300)"
   ]
  },
  {
   "cell_type": "code",
   "execution_count": null,
   "metadata": {},
   "outputs": [],
   "source": [
    "raise TypeError('end of section')"
   ]
  },
  {
   "cell_type": "markdown",
   "metadata": {},
   "source": [
    "# Mid Leg"
   ]
  },
  {
   "cell_type": "code",
   "execution_count": null,
   "metadata": {},
   "outputs": [],
   "source": [
    "## get FeTi angle range where the reset happen\n",
    "def get_mid_leg_SC (df, leg):\n",
    "    if leg == 'L2':\n",
    "        sc = 'L-M_stepcycle'\n",
    "        angle = 'L2C_flex'\n",
    "    if leg =='R2':\n",
    "        sc = 'R-M_stepcycle'\n",
    "        angle = 'R2C_flex'\n",
    "    reset_ang = []\n",
    "    swing_count = [] # number of separate events predicted to be swings from ball prediction and accompanied by a sudden, large change in angle\n",
    "\n",
    "    for n in df['flynum'].unique().tolist():\n",
    "        for t in df.groupby('flynum').get_group(n)['tnum'].unique().tolist():\n",
    "            data = df.groupby('flynum').get_group(n).groupby('tnum').get_group(t).reset_index(drop=True)\n",
    "            sc_temp = pd.DataFrame(data[sc])\n",
    "            ang = data[angle]\n",
    "            sc_diff = pd.DataFrame(np.diff(sc_temp[sc].astype(int)))\n",
    "            swing_init =sc_diff.loc[sc_diff[0] == -1].index.tolist() # index from diff ==> add idx = 1 \n",
    "            # plt.plot(ang)\n",
    "            # for i in swing_init:\n",
    "            #     plt.axvline(x = i)\n",
    "            # plt.show()\n",
    "            swing_count.append(len(swing_init))\n",
    "            for i in swing_init:\n",
    "                if((i>400) & (i<1000)):\n",
    "                    temp_ang = ang[i]\n",
    "                \n",
    "                    reset_ang.append(temp_ang)\n",
    "            \n",
    "\n",
    "    return reset_ang, swing_count"
   ]
  },
  {
   "cell_type": "code",
   "execution_count": null,
   "metadata": {},
   "outputs": [],
   "source": [
    "# plt.rcParams['figure.figsize'] = (15,2)\n",
    "reset_ang_FOMO_L2, swing_count_FOMO_L2 = get_mid_leg_SC (FOMO, 'L2')\n",
    "reset_ang_FOMO_R2, swing_count_FOMO_R2 = get_mid_leg_SC (FOMO, 'R2')\n",
    "\n",
    "reset_ang_FOMO_Stop1_R_L2, swing_count_FOMO_Stop1_R_L2 = get_mid_leg_SC (FOMO_Stop1_R, 'L2')\n",
    "reset_ang_FOMO_Stop1_R_R2, swing_count_FOMO_Stop1_R_R2 = get_mid_leg_SC (FOMO_Stop1_R, 'R2')"
   ]
  },
  {
   "cell_type": "code",
   "execution_count": null,
   "metadata": {},
   "outputs": [],
   "source": [
    "reset_count_Mlegs= pd.DataFrame([swing_count_FOMO_L2, swing_count_FOMO_R2, swing_count_FOMO_Stop1_R_L2, swing_count_FOMO_Stop1_R_R2]).T\n",
    "reset_count_Mlegs.columns = ['FOMO_L2', 'FOMO_R2', 'FOMO_Stop1_R_L2', 'FOMO_Stop1_R_R2']"
   ]
  },
  {
   "cell_type": "code",
   "execution_count": null,
   "metadata": {},
   "outputs": [],
   "source": [
    "plt.rcParams['figure.figsize'] = (15,3)\n",
    "sns.swarmplot(reset_count_Mlegs, size = 2)\n",
    "\n",
    "plt.title('Reset Count (proxy for step count)')\n",
    "plt.show()"
   ]
  },
  {
   "cell_type": "code",
   "execution_count": null,
   "metadata": {},
   "outputs": [],
   "source": [
    "# sns.swarmplot(reset_ang_FOMO_L2)\n",
    "# sns.swarmplot(reset_ang_FOMO_R2)"
   ]
  },
  {
   "cell_type": "code",
   "execution_count": null,
   "metadata": {},
   "outputs": [],
   "source": [
    "# plt.rcParams['figure.figsize'] = (10,2)\n",
    "# df = FOMO\n",
    "# for n in df['flynum'].unique().tolist():\n",
    "#     for t in df.groupby('flynum').get_group(n)['tnum'].unique().tolist():\n",
    "#         data = df.groupby('flynum').get_group(n).groupby('tnum').get_group(t).reset_index(drop=True)\n",
    "\n",
    "#         SC = data['L-M_stepcycle']\n",
    "\n",
    "#         plt.plot(data['L2C_flex'][400:1000])\n",
    "#         plt.plot(SC * 100)\n",
    "#         # plt.axhline(y=95, color = 'k')\n",
    "#         plt.xlim(400,1000)\n",
    "#         plt.show()"
   ]
  },
  {
   "cell_type": "code",
   "execution_count": null,
   "metadata": {},
   "outputs": [],
   "source": [
    "# pool L2 & R2\n",
    "reset_ang_pooled_FOMO_M = pd.concat([pd.DataFrame(reset_ang_FOMO_L2),pd.DataFrame(reset_ang_FOMO_R2)], axis = 0)\n",
    "np.percentile(reset_ang_pooled_FOMO_M, q = [10,25,75,90])\n"
   ]
  },
  {
   "cell_type": "code",
   "execution_count": null,
   "metadata": {},
   "outputs": [],
   "source": [
    "reset_ang_pooled_FOMO_M.columns = ['FOMO_M_SIZ']"
   ]
  },
  {
   "cell_type": "code",
   "execution_count": null,
   "metadata": {},
   "outputs": [],
   "source": [
    "reset_ang_pooled_FOMO_STop1_M = pd.concat([pd.DataFrame(reset_ang_FOMO_Stop1_R_L2),pd.DataFrame(reset_ang_FOMO_Stop1_R_R2)], axis = 0)\n",
    "reset_ang_pooled_FOMO_STop1_M.columns = ['FOMO_Stop1_M_SIZ']"
   ]
  },
  {
   "cell_type": "code",
   "execution_count": null,
   "metadata": {},
   "outputs": [],
   "source": [
    "plt.rcParams['figure.figsize'] = (8,5)\n",
    "swing_init_ang = pd.concat([pd.DataFrame([(reset_ang_FOMO_L2 + reset_ang_FOMO_R2)]).T , pd.DataFrame([(reset_ang_FOMO_Stop1_R_L2 + reset_ang_FOMO_Stop1_R_R2)]).T], axis = 1)\n",
    "swing_init_ang.columns = ['BDN2', 'BDN2_BRK']\n",
    "sns.swarmplot(swing_init_ang, palette=  ['indigo', 'darkcyan'])\n",
    "plt.axhline (y = 40, color = 'maroon')\n",
    "plt.xlim(-1,  2)\n",
    "plt.ylim(0, 150)\n",
    "plt.fill_between( [-1,  2], y1 = 40, y2 = 150, color = 'r',alpha = 0.2)\n",
    "# plt.savefig(r'Z:\\Divya\\TEMP_transfers\\toSB\\0_StopPAper_revision\\3_Coactivation_Revised\\BDN2_BRK\\Mid\\swing_init_ang.svg', dpi = 300)\n",
    "\n",
    "# swing_init_ang.to_csv(r'Z:\\Divya\\TEMP_transfers\\toSB\\0_StopPAper_revision\\3_Coactivation_Revised\\BDN2_BRK\\Mid\\swing_init_ang.csv', index = False)"
   ]
  },
  {
   "cell_type": "code",
   "execution_count": null,
   "metadata": {},
   "outputs": [],
   "source": []
  },
  {
   "cell_type": "code",
   "execution_count": null,
   "metadata": {},
   "outputs": [],
   "source": [
    "# pd.concat([reset_ang_pooled_FOMO_M.reset_index(drop=True),\n",
    "#            reset_ang_pooled_FOMO_STop1_M.reset_index(drop=True)], axis = 1).to_csv(r'Z:\\Divya\\TEMP_transfers\\toSB\\0_StopPAper_revision\\3_Coactivation_Revised\\FOMO_BRK\\SIZ_range\\Mlegs_SIZ.csv', index = False)"
   ]
  },
  {
   "cell_type": "code",
   "execution_count": null,
   "metadata": {},
   "outputs": [],
   "source": [
    "# sns.swarmplot(reset_ang_FOMO_Stop1_R_L2)\n",
    "# sns.swarmplot(reset_ang_FOMO_Stop1_R_R2)"
   ]
  },
  {
   "cell_type": "code",
   "execution_count": null,
   "metadata": {},
   "outputs": [],
   "source": [
    "def get_stepping_params_Mleg (df, leg, angle):\n",
    "    # range_lim  = 120 # A_flex (less than)\n",
    "    # range_lim  = 40 # B_flex (greater than)\n",
    "    range_lim  = 40 # C_flex (greater than)\n",
    "    # range_lim  = 122 # D_flex (greater than)\n",
    "\n",
    "    if leg == 'L2':\n",
    "        sc = 'L-M_stepcycle'\n",
    "    if leg == 'R2':\n",
    "        sc = 'R-M_stepcycle'\n",
    "    \n",
    "    count_SIZ_reached = []\n",
    "    swing_events_within_SIZ = []\n",
    "    percentage_swings_per_trial = []\n",
    "    SIZ_dwell_time = []\n",
    "\n",
    "\n",
    "    for n in df['flynum'].unique().tolist():\n",
    "        for t in df.groupby('flynum').get_group(n)['tnum'].unique().tolist():\n",
    "            data = df.groupby('flynum').get_group(n).groupby('tnum').get_group(t).reset_index(drop=True)\n",
    "            sc_df_temp = data[sc]\n",
    "            temp_ang = pd.DataFrame(data[angle]).iloc[400:1000]\n",
    "\n",
    "            list_in_range = temp_ang.loc[(temp_ang[angle] >range_lim)].index.tolist() #time indices of all events when angle is in the reset rang\n",
    "            if len(list_in_range)>0:\n",
    "                break_pt = np.split(list_in_range, np.where(np.diff(list_in_range)>1)[0]+1) #breaking time indices into events---> number of times when the angle is reached\n",
    "\n",
    "                range_count_temp = len(break_pt) # number of times the SIZ was achieved in trial\n",
    "                count_SIZ_reached.append(range_count_temp)\n",
    "\n",
    "                trial_SIZ_dwell_time = []\n",
    "                swing_events_temp = []\n",
    "                for event in break_pt:\n",
    "                    # print(event)\n",
    "                    trial_SIZ_dwell_time.append(len(event))\n",
    "                    leg_state = sc_df_temp[event+1].tolist()\n",
    "                    # print(leg_state)\n",
    "                    if False in leg_state:\n",
    "                        # print('swing detected!!')\n",
    "                        swing_events_temp.append('True')\n",
    "                SIZ_dwell_time.append(np.mean(trial_SIZ_dwell_time))\n",
    "                swing_events_within_SIZ.append(len(swing_events_temp))\n",
    "                percentage_swings_per_trial.append((len(swing_events_temp)/range_count_temp)*100)\n",
    "            else:\n",
    "                count_SIZ_reached.append(len(list_in_range))\n",
    "    return count_SIZ_reached, swing_events_within_SIZ, percentage_swings_per_trial, SIZ_dwell_time"
   ]
  },
  {
   "cell_type": "code",
   "execution_count": null,
   "metadata": {},
   "outputs": [],
   "source": [
    "ang_name = 'C_flex'\n",
    "count_SIZ_FOMO_L2, SIZ_swings_FOMO_L2, percentage_FOMO_L2, SIZ_dwell_time_FOMO_L2 = get_stepping_params_Mleg (FOMO, 'L2', 'L2'+ang_name)\n",
    "count_SIZ_FOMO_R2, SIZ_swings_FOMO_R2, percentage_FOMO_R2, SIZ_dwell_time_FOMO_R2 = get_stepping_params_Mleg (FOMO, 'R2', 'R2'+ang_name)\n",
    "\n",
    "count_SIZ_FOMO_Stop1_R_L2, SIZ_swings_FOMO_Stop1_R_L2, percentage_FOMO_Stop1_R_L2, SIZ_dwell_time_FOMO_Stop1_R_L2 = get_stepping_params_Mleg (FOMO_Stop1_R, 'L2', 'L2'+ang_name)\n",
    "count_SIZ_FOMO_Stop1_R_R2, SIZ_swings_FOMO_Stop1_R_R2, percentage_FOMO_Stop1_R_R2, SIZ_dwell_time_FOMO_Stop1_R_R2 = get_stepping_params_Mleg (FOMO_Stop1_R, 'R2', 'R2'+ang_name)"
   ]
  },
  {
   "cell_type": "code",
   "execution_count": null,
   "metadata": {},
   "outputs": [],
   "source": []
  },
  {
   "cell_type": "code",
   "execution_count": null,
   "metadata": {},
   "outputs": [],
   "source": [
    "dwell_time_Mlegs_pooled = pd.concat([pd.concat([pd.DataFrame(SIZ_dwell_time_FOMO_L2),pd.DataFrame(SIZ_dwell_time_FOMO_R2)]).reset_index(drop=True),\n",
    "                                    pd.concat([pd.DataFrame(SIZ_dwell_time_FOMO_Stop1_R_L2),pd.DataFrame(SIZ_dwell_time_FOMO_Stop1_R_R2)]).reset_index(drop=True)], axis =1)\n",
    "dwell_time_Mlegs_pooled.columns = headers      \n",
    "# dwell_time_Mlegs_pooled.to_csv(r'Z:\\Divya\\TEMP_transfers\\toSB\\0_StopPAper_revision\\3_Coactivation_Revised\\BDN2_BRK\\Mid\\DT_'+ang_name+'.csv')\n",
    "# \n",
    "# \n",
    "plt.rcParams['figure.figsize'] = (14,5)\n",
    "sns.boxplot(dwell_time_Mlegs_pooled, palette = 'Blues')\n",
    "sns.swarmplot(dwell_time_Mlegs_pooled, size = 3, palette = 'Greys')\n",
    "\n",
    "plt.yticks(np.arange(0,800,200), np.arange(0,4,1))\n",
    "plt.title('SIZ dwell time '+ ang_name)\n",
    "# plt.savefig(r'Z:\\Divya\\TEMP_transfers\\toSB\\0_StopPAper_revision\\3_Coactivation_Revised\\BDN2_BRK\\Mid\\DwellTime_'+ang_name+'.svg', dpi = 300)  "
   ]
  },
  {
   "cell_type": "code",
   "execution_count": null,
   "metadata": {},
   "outputs": [],
   "source": [
    "count_SIZ_Mlegs_pooled = pd.concat([pd.concat([pd.DataFrame(count_SIZ_FOMO_L2),pd.DataFrame(count_SIZ_FOMO_R2)]).reset_index(drop=True),\n",
    "                                    pd.concat([pd.DataFrame(count_SIZ_FOMO_Stop1_R_L2),pd.DataFrame(count_SIZ_FOMO_Stop1_R_R2)]).reset_index(drop=True)], axis =1)\n",
    "count_SIZ_Mlegs_pooled.columns = headers     \n",
    "# count_SIZ_Mlegs_pooled.to_csv(r'Z:\\Divya\\TEMP_transfers\\toSB\\0_StopPAper_revision\\3_Coactivation_Revised\\BDN2_BRK\\Mid\\count_'+ang_name+'.csv') \n",
    "\n",
    "plt.rcParams['figure.figsize'] = (14,5)\n",
    "\n",
    "sns.boxplot(count_SIZ_Mlegs_pooled, palette = 'Blues')\n",
    "sns.swarmplot(count_SIZ_Mlegs_pooled, size = 3, palette = 'Greys')\n",
    "\n",
    "# plt.yticks(np.arange(0,13,2))\n",
    "plt.title('Number of times leg reached SIZ')\n",
    "# plt.savefig(r'Z:\\Divya\\TEMP_transfers\\toSB\\0_StopPAper_revision\\3_Coactivation_Revised\\BDN2_BRK\\Mid\\SIZCount_'+ang_name+'.svg', dpi = 300)"
   ]
  },
  {
   "cell_type": "code",
   "execution_count": null,
   "metadata": {},
   "outputs": [],
   "source": [
    "percentage_swings_SIZ_Mlegs_pooled = pd.concat([pd.concat([pd.DataFrame(percentage_FOMO_L2),pd.DataFrame(percentage_FOMO_R2)]).reset_index(drop=True),\n",
    "                                    pd.concat([pd.DataFrame(percentage_FOMO_Stop1_R_L2),pd.DataFrame(percentage_FOMO_Stop1_R_R2)]).reset_index(drop=True)], axis =1)\n",
    "percentage_swings_SIZ_Mlegs_pooled.columns = headers     \n",
    "# percentage_swings_SIZ_Mlegs_pooled.to_csv(r'Z:\\Divya\\TEMP_transfers\\toSB\\0_StopPAper_revision\\3_Coactivation_Revised\\BDN2_BRK\\Mid\\PS_'+ang_name+'.csv') \n",
    "\n",
    "plt.rcParams['figure.figsize'] = (14,5)\n",
    "\n",
    "sns.boxplot(percentage_swings_SIZ_Mlegs_pooled, palette = 'Blues')\n",
    "sns.swarmplot(percentage_swings_SIZ_Mlegs_pooled, size = 5, palette = 'Greys')\n",
    "\n",
    "# plt.yticks(np.arange(0,13,2))\n",
    "plt.title('Percentage of SIZ events where Swings ocured')\n",
    "# plt.savefig(r'Z:\\Divya\\TEMP_transfers\\toSB\\0_StopPAper_revision\\3_Coactivation_Revised\\BDN2_BRK\\Mid\\Percent_Swings_'+ang_name+'.svg', dpi = 300)"
   ]
  },
  {
   "cell_type": "code",
   "execution_count": null,
   "metadata": {},
   "outputs": [],
   "source": [
    "raise TypeError('end of section')"
   ]
  },
  {
   "cell_type": "markdown",
   "metadata": {},
   "source": [
    "# Hind Leg"
   ]
  },
  {
   "cell_type": "code",
   "execution_count": null,
   "metadata": {},
   "outputs": [],
   "source": [
    "FOMO_Stop1_R = FOMO_Stop1_R.loc[FOMO_Stop1_R['flynum']!=13]\n",
    "FOMO_Stop1_R = FOMO_Stop1_R.loc[FOMO_Stop1_R['flynum']!=15]"
   ]
  },
  {
   "cell_type": "code",
   "execution_count": null,
   "metadata": {},
   "outputs": [],
   "source": [
    "## get FeTi angle range where the reset happen\n",
    "def get_hind_leg_SC (df, leg):\n",
    "    if leg == 'L3':\n",
    "        sc = 'L-H_stepcycle'\n",
    "        angle = 'L3C_flex'\n",
    "    if leg =='R3':\n",
    "        sc = 'R-H_stepcycle'\n",
    "        angle = 'R3C_flex'\n",
    "    reset_ang = []\n",
    "    swing_count = [] # number of separate events predicted to be swings from ball prediction and accompanied by a sudden, large change in angle\n",
    "\n",
    "    for n in df['flynum'].unique().tolist():\n",
    "        for t in df.groupby('flynum').get_group(n)['tnum'].unique().tolist():\n",
    "            data = df.groupby('flynum').get_group(n).groupby('tnum').get_group(t).reset_index(drop=True)\n",
    "            sc_temp = pd.DataFrame(data[sc])\n",
    "            ang = data[angle]\n",
    "            sc_diff = pd.DataFrame(np.diff(sc_temp[sc].astype(int)))\n",
    "            swing_init =sc_diff.loc[sc_diff[0] == -1].index.tolist() # index from diff ==> add idx = 1 \n",
    "            # plt.plot(ang)\n",
    "            # for i in swing_init:\n",
    "            #     plt.axvline(x = i)\n",
    "            # plt.show()\n",
    "            swing_count.append(len(swing_init))\n",
    "            for i in swing_init:\n",
    "                if((i>400) & (i<1000)):\n",
    "                    temp_ang = ang[i]\n",
    "                    reset_ang.append(temp_ang)\n",
    "\n",
    "    return reset_ang, swing_count"
   ]
  },
  {
   "cell_type": "code",
   "execution_count": null,
   "metadata": {},
   "outputs": [],
   "source": [
    "# plt.rcParams['figure.figsize'] = (15,3)\n",
    "reset_ang_FOMO_L3, swing_count_FOMO_L3 = get_hind_leg_SC (FOMO, 'L3')\n",
    "reset_ang_FOMO_R3, swing_count_FOMO_R3 = get_hind_leg_SC (FOMO, 'R3')\n",
    "\n",
    "reset_ang_FOMO_Stop1_R_L3, swing_count_FOMO_Stop1_R_L3 = get_hind_leg_SC (FOMO_Stop1_R, 'L3')\n",
    "reset_ang_FOMO_Stop1_R_R3, swing_count_FOMO_Stop1_R_R3 = get_hind_leg_SC (FOMO_Stop1_R, 'R3')"
   ]
  },
  {
   "cell_type": "code",
   "execution_count": null,
   "metadata": {},
   "outputs": [],
   "source": [
    "reset_count_Hlegs= pd.DataFrame([swing_count_FOMO_L3, swing_count_FOMO_R3, swing_count_FOMO_Stop1_R_L3, swing_count_FOMO_Stop1_R_R3]).T\n",
    "reset_count_Hlegs.columns = ['FOMO_L3', 'FOMO_R3', 'FOMO_Stop1_R_L3', 'FOMO_Stop1_R_R3']"
   ]
  },
  {
   "cell_type": "code",
   "execution_count": null,
   "metadata": {},
   "outputs": [],
   "source": [
    "# plt.rcParams['figure.figsize'] = (10,5)\n",
    "# sns.swarmplot(reset_count_Hlegs, size = 2)\n",
    "\n",
    "# plt.title('Reset Count (proxy for step count)')\n",
    "# plt.show()"
   ]
  },
  {
   "cell_type": "code",
   "execution_count": null,
   "metadata": {},
   "outputs": [],
   "source": [
    "# sns.swarmplot(reset_ang_FOMO_L3)\n",
    "# sns.swarmplot(reset_ang_FOMO_R3)"
   ]
  },
  {
   "cell_type": "code",
   "execution_count": null,
   "metadata": {},
   "outputs": [],
   "source": [
    "# pool L3 & R3\n",
    "reset_ang_pooled_FOMO_H = pd.concat([pd.DataFrame(reset_ang_FOMO_L3),pd.DataFrame(reset_ang_FOMO_R3)], axis = 0)\n",
    "np.percentile(reset_ang_pooled_FOMO_H, q = [10,25,75,90])"
   ]
  },
  {
   "cell_type": "code",
   "execution_count": null,
   "metadata": {},
   "outputs": [],
   "source": [
    "reset_ang_pooled_FOMO_H.columns = ['FOMO_H_SIZ']"
   ]
  },
  {
   "cell_type": "code",
   "execution_count": null,
   "metadata": {},
   "outputs": [],
   "source": [
    "reset_ang_pooled_FOMO_Stop1_H = pd.concat([pd.DataFrame(reset_ang_FOMO_Stop1_R_L3),pd.DataFrame(reset_ang_FOMO_Stop1_R_R3)], axis = 0)\n",
    "reset_ang_pooled_FOMO_Stop1_H.columns = ['FOMO_Stop1_H_SIZ']"
   ]
  },
  {
   "cell_type": "code",
   "execution_count": null,
   "metadata": {},
   "outputs": [],
   "source": [
    "# pd.concat([reset_ang_pooled_FOMO_H.reset_index(drop=True),\n",
    "#            reset_ang_pooled_FOMO_Stop1_H.reset_index(drop=True)], axis = 1).to_csv(r'Z:\\Divya\\TEMP_transfers\\toSB\\0_StopPAper_revision\\3_Coactivation_Revised\\FOMO_BRK\\SIZ_range\\Hlegs_SIZ.csv', index = False)"
   ]
  },
  {
   "cell_type": "code",
   "execution_count": null,
   "metadata": {},
   "outputs": [],
   "source": [
    "plt.rcParams['figure.figsize'] = (8,5)\n",
    "swing_init_ang = pd.concat([pd.DataFrame([(reset_ang_FOMO_L3 + reset_ang_FOMO_R3)]).T , pd.DataFrame([(reset_ang_FOMO_Stop1_R_L3 + reset_ang_FOMO_Stop1_R_R3)]).T], axis = 1)\n",
    "swing_init_ang.columns = ['BDN2', 'BDN2_BRK']\n",
    "sns.swarmplot(swing_init_ang, palette=  ['indigo', 'darkcyan'])\n",
    "plt.axhline (y = 55, color = 'maroon')\n",
    "plt.xlim(-1,  2)\n",
    "plt.ylim(0, 150)\n",
    "plt.fill_between( [-1,  2], y1 = 55, y2 = 150, color = 'r',alpha = 0.2)\n",
    "# plt.savefig(r'Z:\\Divya\\TEMP_transfers\\toSB\\0_StopPAper_revision\\3_Coactivation_Revised\\BDN2_BRK\\Hind\\swing_init_ang.svg', dpi = 300)\n",
    "\n",
    "# swing_init_ang.to_csv(r'Z:\\Divya\\TEMP_transfers\\toSB\\0_StopPAper_revision\\3_Coactivation_Revised\\BDN2_BRK\\Hind\\swing_init_ang.csv', index = False)"
   ]
  },
  {
   "cell_type": "code",
   "execution_count": null,
   "metadata": {},
   "outputs": [],
   "source": [
    "# plt.rcParams['figure.figsize'] = (10,2)\n",
    "# df = FOMO_Stop1_R\n",
    "# for n in df['flynum'].unique().tolist():\n",
    "#     for t in df.groupby('flynum').get_group(n)['tnum'].unique().tolist():\n",
    "#         data = df.groupby('flynum').get_group(n).groupby('tnum').get_group(t).reset_index(drop=True)\n",
    "\n",
    "#         SC = data['L-H_stepcycle']\n",
    "\n",
    "#         plt.plot(data['L3C_flex'][400:1000])\n",
    "#         plt.plot(SC * 150)\n",
    "#         # plt.axhline(y=95, color = 'k')\n",
    "#         plt.xlim(400,1000)\n",
    "#         print((n,t))\n",
    "#         plt.show()"
   ]
  },
  {
   "cell_type": "code",
   "execution_count": null,
   "metadata": {},
   "outputs": [],
   "source": [
    "# sns.swarmplot(reset_ang_FOMO_Stop1_R_L3)\n",
    "# sns.swarmplot(reset_ang_FOMO_Stop1_R_R3)"
   ]
  },
  {
   "cell_type": "code",
   "execution_count": null,
   "metadata": {},
   "outputs": [],
   "source": [
    "def get_stepping_params_Hleg (df, leg, angle):\n",
    "    if 'A_flex' in angle:\n",
    "        range_lim = 145 # A_flex\n",
    "    elif 'B_flex' in angle:\n",
    "        range_lim = 83 # B_flex\n",
    "    elif 'C_flex' in angle:\n",
    "        range_lim = 55 # C_flex\n",
    "    elif 'D_flex' in angle:\n",
    "        range_lim = 131 # D_flex\n",
    "\n",
    "    \n",
    "    if leg == 'L3':\n",
    "        sc = 'L-H_stepcycle'\n",
    "    if leg == 'R3':\n",
    "        sc = 'R-H_stepcycle'\n",
    "    \n",
    "    count_SIZ_reached = []\n",
    "    swing_events_within_SIZ = []\n",
    "    percentage_swings_per_trial = []\n",
    "    SIZ_dwell_time = []\n",
    "\n",
    "\n",
    "    for n in df['flynum'].unique().tolist():\n",
    "        for t in df.groupby('flynum').get_group(n)['tnum'].unique().tolist():\n",
    "\n",
    "            print((n,t))\n",
    "            plt.rcParams['figure.figsize'] = (10,2)\n",
    "\n",
    "            data = df.groupby('flynum').get_group(n).groupby('tnum').get_group(t).reset_index(drop=True)\n",
    "\n",
    "            sc_df_temp = data[sc]\n",
    "            \n",
    "            # temp_ang = pd.DataFrame(data[angle]).iloc[400:1000]\n",
    "            # plt.plot(temp_ang)\n",
    "            ang = data[angle]\n",
    "            ang = pd.DataFrame(scipy.ndimage.gaussian_filter(ang, sigma= 5))\n",
    "            ang.columns = [angle]\n",
    "            temp_ang = ang.iloc[400:1000]\n",
    "            plt.plot(temp_ang)\n",
    "\n",
    "            list_in_range = temp_ang.loc[(temp_ang[angle] > range_lim)].index.tolist() #time indices of all events when angle is in the reset rang\n",
    "            if len(list_in_range)>0:\n",
    "\n",
    "                \n",
    "                plt.axhline( y =range_lim, color = 'Grey')\n",
    "\n",
    "                break_pt = np.split(list_in_range, np.where(np.diff(list_in_range)>1)[0]+1) #breaking time indices into events---> number of times when the angle is reached\n",
    "                break_pt_filt = []\n",
    "                for event in break_pt:\n",
    "                    if len(event) < 12:\n",
    "                        continue\n",
    "                    else:\n",
    "                        break_pt_filt.append(event)\n",
    "                if len(break_pt_filt)> 0 :\n",
    "                    for event in break_pt_filt:\n",
    "                        plt.axvline(x = event[0], color = 'g')\n",
    "                        plt.axvline(x = event[-1], color = 'r')\n",
    "\n",
    "                    range_count_temp = len(break_pt_filt) # number of times the SIZ was achieved in trial\n",
    "                    count_SIZ_reached.append(range_count_temp)\n",
    "                    # trial_SIZ_dwell_time = []\n",
    "                    \n",
    "                    swing_events_temp = []\n",
    "                    for event in break_pt_filt:\n",
    "                        # print(event)\n",
    "                        SIZ_dwell_time.append(len(event))\n",
    "                        leg_state = sc_df_temp[event+1].tolist()\n",
    "                        # print(leg_state)\n",
    "                        if False in leg_state:\n",
    "                            # print('swing detected!!')\n",
    "                            swing_events_temp.append('True')\n",
    "                    # SIZ_dwell_time.append(np.mean(trial_SIZ_dwell_time))\n",
    "                    swing_events_within_SIZ.append(len(swing_events_temp))\n",
    "                    percentage_swings_per_trial.append((len(swing_events_temp)/range_count_temp)*100)\n",
    "\n",
    "                    plt.xlim(400,1000)\n",
    "                    plt.show()\n",
    "                else:\n",
    "                    plt.xlim(400,1000)\n",
    "                    plt.show()             \n",
    "\n",
    "            else:\n",
    "                count_SIZ_reached.append(len(list_in_range))\n",
    "    return count_SIZ_reached, swing_events_within_SIZ, percentage_swings_per_trial, SIZ_dwell_time"
   ]
  },
  {
   "cell_type": "code",
   "execution_count": null,
   "metadata": {},
   "outputs": [],
   "source": [
    "ang_name = 'C_flex'\n",
    "count_SIZ_FOMO_L3, SIZ_swings_FOMO_L3, percentage_FOMO_L3, SIZ_dwell_time_FOMO_L3 = get_stepping_params_Hleg (FOMO, 'L3', 'L3'+ang_name)\n",
    "count_SIZ_FOMO_R3, SIZ_swings_FOMO_R3, percentage_FOMO_R3, SIZ_dwell_time_FOMO_R3 = get_stepping_params_Hleg (FOMO, 'R3', 'R3'+ang_name)\n",
    "\n"
   ]
  },
  {
   "cell_type": "code",
   "execution_count": null,
   "metadata": {},
   "outputs": [],
   "source": [
    "count_SIZ_FOMO_Stop1_R_L3, SIZ_swings_FOMO_Stop1_R_L3, percentage_FOMO_Stop1_R_L3, SIZ_dwell_time_FOMO_Stop1_R_L3 = get_stepping_params_Hleg (FOMO_Stop1_R, 'L3', 'L3'+ang_name)\n",
    "count_SIZ_FOMO_Stop1_R_R3, SIZ_swings_FOMO_Stop1_R_R3, percentage_FOMO_Stop1_R_R3, SIZ_dwell_time_FOMO_Stop1_R_R3 = get_stepping_params_Hleg (FOMO_Stop1_R, 'R3', 'R3'+ang_name)"
   ]
  },
  {
   "cell_type": "code",
   "execution_count": null,
   "metadata": {},
   "outputs": [],
   "source": [
    "dwell_time_Hlegs_pooled = pd.concat([pd.concat([pd.DataFrame(SIZ_dwell_time_FOMO_L3),pd.DataFrame(SIZ_dwell_time_FOMO_R3)]).reset_index(drop=True),\n",
    "                                    pd.concat([pd.DataFrame(SIZ_dwell_time_FOMO_Stop1_R_L3),pd.DataFrame(SIZ_dwell_time_FOMO_Stop1_R_R3)]).reset_index(drop=True)], axis =1)\n",
    "dwell_time_Hlegs_pooled.columns = headers     \n",
    "# dwell_time_Hlegs_pooled.to_csv(r'Z:\\Divya\\TEMP_transfers\\toSB\\0_StopPAper_revision\\3_Coactivation_Revised\\BDN2_BRK\\Hind\\DT_'+ang_name+'.csv') \n",
    "# \n",
    "plt.rcParams['figure.figsize'] = (14,5)\n",
    "sns.boxplot(dwell_time_Hlegs_pooled, palette = 'Greens')\n",
    "sns.swarmplot(dwell_time_Hlegs_pooled, size = 5,  palette = 'Greys')\n",
    "\n",
    "plt.yticks(np.arange(0,800,200), np.arange(0,4,1))\n",
    "plt.title('SIZ dwell time '+ ang_name)\n",
    "# plt.savefig(r'Z:\\Divya\\TEMP_transfers\\toSB\\0_StopPAper_revision\\3_Coactivation_Revised\\BDN2_BRK\\Hind\\DwellTime_'+ang_name+'.svg', dpi = 300) "
   ]
  },
  {
   "cell_type": "code",
   "execution_count": null,
   "metadata": {},
   "outputs": [],
   "source": [
    "count_SIZ_Hlegs_pooled = pd.concat([pd.concat([pd.DataFrame(count_SIZ_FOMO_L3),pd.DataFrame(count_SIZ_FOMO_R3)]).reset_index(drop=True),\n",
    "                                    pd.concat([pd.DataFrame(count_SIZ_FOMO_Stop1_R_L3),pd.DataFrame(count_SIZ_FOMO_Stop1_R_R3)]).reset_index(drop=True)], axis =1)\n",
    "count_SIZ_Hlegs_pooled.columns =  headers      \n",
    "# count_SIZ_Hlegs_pooled.to_csv(r'Z:\\Divya\\TEMP_transfers\\toSB\\0_StopPAper_revision\\3_Coactivation_Revised\\BDN2_BRK\\Hind\\count_'+ang_name+'.csv') \n",
    "\n",
    "plt.rcParams['figure.figsize'] = (14,5)\n",
    "sns.boxplot(count_SIZ_Hlegs_pooled, palette = 'Greens')\n",
    "sns.swarmplot(count_SIZ_Hlegs_pooled, size = 3, palette = 'Greys')\n",
    "# plt.yticks(np.arange(0,13,2))\n",
    "plt.title('Number of times leg reached SIZ')\n",
    "# plt.savefig(r'Z:\\Divya\\TEMP_transfers\\toSB\\0_StopPAper_revision\\3_Coactivation_Revised\\BDN2_BRK\\Hind\\SIZ_Count_'+ang_name+'.svg', dpi = 300)"
   ]
  },
  {
   "cell_type": "code",
   "execution_count": null,
   "metadata": {},
   "outputs": [],
   "source": [
    "percentage_swings_SIZ_Hlegs_pooled = pd.concat([pd.concat([pd.DataFrame(percentage_FOMO_L3),pd.DataFrame(percentage_FOMO_R3)]).reset_index(drop=True),\n",
    "                                    pd.concat([pd.DataFrame(percentage_FOMO_Stop1_R_L3),pd.DataFrame(percentage_FOMO_Stop1_R_R3)]).reset_index(drop=True)], axis =1)\n",
    "percentage_swings_SIZ_Hlegs_pooled.columns = headers     \n",
    "# percentage_swings_SIZ_Hlegs_pooled.to_csv(r'Z:\\Divya\\TEMP_transfers\\toSB\\0_StopPAper_revision\\3_Coactivation_Revised\\BDN2_BRK\\Hind\\PS_'+ang_name+'.csv') \n",
    "\n",
    "plt.rcParams['figure.figsize'] = (14,5)\n",
    "\n",
    "sns.boxplot(percentage_swings_SIZ_Hlegs_pooled, palette = 'Blues')\n",
    "sns.swarmplot(percentage_swings_SIZ_Hlegs_pooled, size = 5, palette = 'Greys')\n",
    "\n",
    "# plt.yticks(np.arange(0,13,2))\n",
    "plt.title('Percentage of SIZ events where Swings ocured')\n",
    "# plt.savefig(r'Z:\\Divya\\TEMP_transfers\\toSB\\0_StopPAper_revision\\3_Coactivation_Revised\\BDN2_BRK\\Hind\\Percent_Swings_'+ang_name+'.svg', dpi = 300)"
   ]
  },
  {
   "cell_type": "code",
   "execution_count": null,
   "metadata": {},
   "outputs": [],
   "source": [
    "raise TypeError('end of section')"
   ]
  },
  {
   "cell_type": "code",
   "execution_count": null,
   "metadata": {},
   "outputs": [],
   "source": []
  },
  {
   "cell_type": "markdown",
   "metadata": {},
   "source": [
    "# swing initiation zone : FeTi angle"
   ]
  },
  {
   "cell_type": "code",
   "execution_count": null,
   "metadata": {},
   "outputs": [],
   "source": [
    "F_leg_FOMO = pd.read_csv(r\"Z:\\Divya\\TEMP_transfers\\toSB\\0_StopPAper_revision\\3_Coactivation_Revised\\FOMO_BRK\\SIZ_range\\Flegs_SIZ.csv\")\n",
    "M_leg_FOMO = pd.read_csv(r\"Z:\\Divya\\TEMP_transfers\\toSB\\0_StopPAper_revision\\3_Coactivation_Revised\\FOMO_BRK\\SIZ_range\\Mlegs_SIZ.csv\")\n",
    "H_leg_FOMO = pd.read_csv(r\"Z:\\Divya\\TEMP_transfers\\toSB\\0_StopPAper_revision\\3_Coactivation_Revised\\FOMO_BRK\\SIZ_range\\Hlegs_SIZ.csv\")"
   ]
  },
  {
   "cell_type": "code",
   "execution_count": null,
   "metadata": {},
   "outputs": [],
   "source": [
    "F_leg_MDN = pd.read_csv(r\"Z:\\Divya\\TEMP_transfers\\toSB\\0_StopPAper_revision\\3_Coactivation_Revised\\MDN_BRK\\SIZ_range\\Flegs_SIZ.csv\")\n",
    "M_leg_MDN = pd.read_csv(r\"Z:\\Divya\\TEMP_transfers\\toSB\\0_StopPAper_revision\\3_Coactivation_Revised\\MDN_BRK\\SIZ_range\\Mlegs_SIZ.csv\")\n",
    "H_leg_MDN = pd.read_csv(r\"Z:\\Divya\\TEMP_transfers\\toSB\\0_StopPAper_revision\\3_Coactivation_Revised\\MDN_BRK\\SIZ_range\\Hlegs_SIZ.csv\")"
   ]
  },
  {
   "cell_type": "code",
   "execution_count": null,
   "metadata": {},
   "outputs": [],
   "source": [
    "FOMO_all = pd.concat([F_leg_FOMO, M_leg_FOMO, H_leg_FOMO], axis =1)"
   ]
  },
  {
   "cell_type": "code",
   "execution_count": null,
   "metadata": {},
   "outputs": [],
   "source": [
    "MDN_all = pd.concat([F_leg_MDN, M_leg_MDN, H_leg_MDN], axis =1)"
   ]
  },
  {
   "cell_type": "code",
   "execution_count": null,
   "metadata": {},
   "outputs": [],
   "source": [
    "plt.rcParams['figure.figsize'] = (25,5)\n",
    "sns.swarmplot(data = FOMO_all, size = 2, color = 'k')\n",
    "sns.boxplot(data = FOMO_all)\n",
    "plt.savefig(r'Z:\\Divya\\TEMP_transfers\\toSB\\0_StopPAper_revision\\3_Coactivation_Revised\\FOMO_BRK\\SIZ_range\\SIZ_data_FOMO.png', dpi = 300)"
   ]
  },
  {
   "cell_type": "code",
   "execution_count": null,
   "metadata": {},
   "outputs": [],
   "source": [
    "plt.rcParams['figure.figsize'] = (20,5)\n",
    "sns.swarmplot(data = MDN_all, size = 2, color = 'k')\n",
    "sns.boxplot(data = MDN_all)\n",
    "plt.savefig(r'Z:\\Divya\\TEMP_transfers\\toSB\\0_StopPAper_revision\\3_Coactivation_Revised\\MDN_BRK\\SIZ_range\\SIZ_data_MDN.png', dpi = 300)"
   ]
  },
  {
   "cell_type": "code",
   "execution_count": null,
   "metadata": {},
   "outputs": [],
   "source": []
  },
  {
   "cell_type": "code",
   "execution_count": null,
   "metadata": {},
   "outputs": [],
   "source": []
  },
  {
   "cell_type": "code",
   "execution_count": null,
   "metadata": {},
   "outputs": [],
   "source": []
  }
 ],
 "metadata": {
  "kernelspec": {
   "display_name": "stats",
   "language": "python",
   "name": "python3"
  },
  "language_info": {
   "codemirror_mode": {
    "name": "ipython",
    "version": 3
   },
   "file_extension": ".py",
   "mimetype": "text/x-python",
   "name": "python",
   "nbconvert_exporter": "python",
   "pygments_lexer": "ipython3",
   "version": "3.9.13"
  },
  "orig_nbformat": 4
 },
 "nbformat": 4,
 "nbformat_minor": 2
}
