{
 "cells": [
  {
   "cell_type": "code",
   "execution_count": null,
   "metadata": {},
   "outputs": [],
   "source": [
    "import os\n",
    "import numpy as np\n",
    "import glob as glob\n",
    "import pandas as pd\n",
    "from pathlib import Path\n",
    "from scipy.io import loadmat\n",
    "import matplotlib.pyplot as plt\n",
    "import math\n",
    "import seaborn as sns\n",
    "import scipy \n",
    "from matplotlib.ticker import MultipleLocator\n",
    "import sklearn\n",
    "from sklearn.neighbors import KernelDensity\n",
    "from sklearn.model_selection import GridSearchCV\n",
    "from scipy.ndimage import gaussian_filter1d"
   ]
  },
  {
   "cell_type": "markdown",
   "metadata": {},
   "source": [
    "# Import Data"
   ]
  },
  {
   "cell_type": "code",
   "execution_count": null,
   "metadata": {},
   "outputs": [],
   "source": [
    "All_stopdata = pd.read_parquet(r'C:\\1_Stop_project_allData\\Ball_fitting_V2\\data\\df_preproc.parquet', engine='pyarrow')"
   ]
  },
  {
   "cell_type": "code",
   "execution_count": null,
   "metadata": {},
   "outputs": [],
   "source": [
    "## Define genotypes\n",
    "Stop1 = All_stopdata.loc[All_stopdata['genotype'].str.contains('Stop')]\n",
    "FG = All_stopdata.loc[All_stopdata['genotype'].str.contains('FG')]\n",
    "BB = All_stopdata.loc[All_stopdata['genotype'].str.contains('BB')]\n",
    "ES = All_stopdata.loc[All_stopdata['genotype'].str.contains('ES')]"
   ]
  },
  {
   "cell_type": "code",
   "execution_count": null,
   "metadata": {},
   "outputs": [],
   "source": [
    "def plot_all_stopping_bouts (df, title):\n",
    "    \"\"\"Plots ball velocity bounded line with Fe-Ti joint angle for all trials in the input df\n",
    "\n",
    "    Parameters\n",
    "    ----------\n",
    "    df : DataFrame\n",
    "        Raw dataframe with flynum, tnum and L1C_flex columns \n",
    "    title : string\n",
    "        'ES_66' or 'FG_66' or 'BB_66' or 'BRK_66'. Used to specify the genotype of the df so that it is matched to the appropriate ball data file\n",
    "    \"\"\"\n",
    "    if title == 'ES_66':\n",
    "        Mean = pd.read_csv(r'Z:\\STOP PROJECT SHARED FOLDER\\Fig2\\PreliminaryData_invalid\\07222023\\9_Ball_velocity\\Mean_ES_66.csv')\n",
    "        SEM = pd.read_csv(r'Z:\\STOP PROJECT SHARED FOLDER\\Fig2\\PreliminaryData_invalid\\07222023\\9_Ball_velocity\\SEM_ES_66.csv')\n",
    "    elif title == 'FG_66':\n",
    "        Mean = pd.read_csv(r'Z:\\STOP PROJECT SHARED FOLDER\\Fig2\\PreliminaryData_invalid\\07222023\\9_Ball_velocity\\Mean_FG_66.csv')\n",
    "        SEM = pd.read_csv(r'Z:\\STOP PROJECT SHARED FOLDER\\Fig2\\PreliminaryData_invalid\\07222023\\9_Ball_velocity\\SEM_FG_66.csv')\n",
    "    elif title == 'BB_66':\n",
    "        Mean = pd.read_csv(r'Z:\\STOP PROJECT SHARED FOLDER\\Fig2\\PreliminaryData_invalid\\07222023\\9_Ball_velocity\\Mean_BB_66.csv')\n",
    "        SEM = pd.read_csv(r'Z:\\STOP PROJECT SHARED FOLDER\\Fig2\\PreliminaryData_invalid\\07222023\\9_Ball_velocity\\SEM_BB_66.csv')\n",
    "    elif title == 'BRK_66':\n",
    "        Mean = pd.read_csv(r'Z:\\STOP PROJECT SHARED FOLDER\\Fig2\\PreliminaryData_invalid\\07222023\\9_Ball_velocity\\Mean_Stop1_66.csv')\n",
    "        SEM = pd.read_csv(r'Z:\\STOP PROJECT SHARED FOLDER\\Fig2\\PreliminaryData_invalid\\07222023\\9_Ball_velocity\\SEM_Stop1_66.csv')\n",
    "    \n",
    "  \n",
    "    idx = pd.DataFrame()\n",
    "    for N in df['flynum'].unique().tolist():\n",
    "        for t in df.groupby('flynum').get_group(N)['tnum'].unique().tolist():\n",
    "            idx = pd.concat([idx, pd.DataFrame([N,t]).T])\n",
    "    idx.columns = ['flynum', 'tnum']\n",
    "    idx  =idx.reset_index(drop=True)\n",
    "\n",
    "    HM_data_L1 = pd.DataFrame(np.array(df['L1C_flex']).reshape((int(len(df)/1400)), 1400))   \n",
    "    HM_data_L1_toplot = pd.concat([idx, HM_data_L1 ], axis = 1)\n",
    "\n",
    "    # HM_data_L2 = pd.DataFrame(np.array(df['L2C_flex']).reshape((int(len(df)/1400)), 1400))   \n",
    "    # HM_data_L2_toplot = pd.concat([idx, HM_data_L2 ], axis = 1)\n",
    "\n",
    "    # HM_data_L3 = pd.DataFrame(np.array(df['L3C_flex']).reshape((int(len(df)/1400)), 1400))   \n",
    "    # HM_data_L3_toplot = pd.concat([idx, HM_data_L3 ], axis = 1)\n",
    "\n",
    "    # HM_data_R1 = pd.DataFrame(np.array(df['R1C_flex']).reshape((int(len(df)/1400)), 1400))   \n",
    "    # HM_data_R1_toplot = pd.concat([idx, HM_data_R1 ], axis = 1)\n",
    "   \n",
    "    # HM_data_R2 = pd.DataFrame(np.array(df['R2C_flex']).reshape((int(len(df)/1400)), 1400))   \n",
    "    # HM_data_R2_toplot = pd.concat([idx, HM_data_R2 ], axis = 1)\n",
    "  \n",
    "    # HM_data_R3 = pd.DataFrame(np.array(df['R3C_flex']).reshape((int(len(df)/1400)), 1400))   \n",
    "    # HM_data_R3_toplot = pd.concat([idx, HM_data_R3 ], axis = 1)\n",
    " \n",
    "    plt.rcParams['figure.figsize'] = (10,5)\n",
    "    fig, ax = plt.subplots(2,1, sharex = True, sharey = False)\n",
    "    vmin = 10\n",
    "    vmax = 150\n",
    "    cmap = 'coolwarm'\n",
    "\n",
    "    sns.heatmap(ax = ax[1], data = HM_data_L1_toplot.iloc[:,2:1002], vmin = vmin, vmax = vmax, cmap = cmap, cbar=False)\n",
    "    # sns.heatmap(ax = ax[2], data = HM_data_L2_toplot.iloc[:,2:1002], vmin = vmin, vmax = 130, cmap = cmap, cbar=False)\n",
    "    # sns.heatmap(ax = ax[3], data = HM_data_L3_toplot.iloc[:,2:1002], vmin = vmin, vmax = vmax, cmap = cmap, cbar=False)\n",
    "    # sns.heatmap(ax = ax[4], data = HM_data_R1_toplot.iloc[:,2:1002], vmin = vmin, vmax = vmax, cmap = cmap, cbar=False)\n",
    "    # sns.heatmap(ax = ax[5], data = HM_data_R2_toplot.iloc[:,2:1002], vmin = vmin, vmax = 130, cmap = cmap, cbar=False)\n",
    "    # sns.heatmap(ax = ax[6], data = HM_data_R3_toplot.iloc[:,2:1002], vmin = vmin, vmax = vmax, cmap = cmap, cbar=False)\n",
    "    \n",
    "\n",
    "\n",
    "    ax[1].axvline(x = 400, color = 'k', alpha = 0.7, linestyle = '--')\n",
    "    # ax[2].axvline(x = 400, color = 'k', alpha = 0.7, linestyle = '--')\n",
    "    # ax[3].axvline(x = 400, color = 'k', alpha = 0.7, linestyle = '--')\n",
    "    # ax[4].axvline(x = 400, color = 'k', alpha = 0.7, linestyle = '--')\n",
    "    # ax[5].axvline(x = 400, color = 'k', alpha = 0.7, linestyle = '--')\n",
    "    # ax[6].axvline(x = 400, color = 'k', alpha = 0.7, linestyle = '--')\n",
    "\n",
    "\n",
    "    ax[1].xaxis.set_minor_locator(MultipleLocator(100))\n",
    "    y = Mean.iloc[:1000,0]\n",
    "    error = SEM.iloc[:1000,0]\n",
    "    ax[0].plot(y, color = 'r', label = 'Stop1')\n",
    "    ax[0].fill_between(np.arange(0,1000,1), y-error, y+error, alpha = 0.2, color = 'r')\n",
    "    ax[0].axvline(x = 400, color = 'k', alpha = 0.7, linestyle = '--')\n",
    "    # ax[0].axvline(x = 1000, color = 'k', alpha = 0.7, linestyle = '--')\n",
    "    ax[0].set_ylim([-4, 12])\n",
    "\n",
    "    \n",
    "    plt.xticks(np.arange(0,1200, 200), [-2, -1, 0, 1, 2, 3],rotation=0)\n",
    "    plt.tight_layout()\n"
   ]
  },
  {
   "cell_type": "code",
   "execution_count": null,
   "metadata": {},
   "outputs": [],
   "source": [
    "plot_all_stopping_bouts (ES , 'ES_66')"
   ]
  },
  {
   "cell_type": "code",
   "execution_count": null,
   "metadata": {},
   "outputs": [],
   "source": []
  }
 ],
 "metadata": {
  "kernelspec": {
   "display_name": "stats",
   "language": "python",
   "name": "python3"
  },
  "language_info": {
   "codemirror_mode": {
    "name": "ipython",
    "version": 3
   },
   "file_extension": ".py",
   "mimetype": "text/x-python",
   "name": "python",
   "nbconvert_exporter": "python",
   "pygments_lexer": "ipython3",
   "version": "3.11.3"
  }
 },
 "nbformat": 4,
 "nbformat_minor": 2
}
