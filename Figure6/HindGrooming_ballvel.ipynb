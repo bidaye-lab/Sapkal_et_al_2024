{
 "cells": [
  {
   "cell_type": "code",
   "execution_count": null,
   "metadata": {},
   "outputs": [],
   "source": [
    "import os\n",
    "import numpy as np\n",
    "import glob as glob\n",
    "import pandas as pd\n",
    "from pathlib import Path\n",
    "from scipy.io import loadmat\n",
    "import matplotlib.pyplot as plt\n",
    "import math\n",
    "import seaborn as sns\n",
    "import scipy \n",
    "from matplotlib.ticker import MultipleLocator\n",
    "import sklearn\n",
    "from sklearn.neighbors import KernelDensity\n",
    "from sklearn.model_selection import GridSearchCV\n",
    "from scipy.ndimage import gaussian_filter1d"
   ]
  },
  {
   "cell_type": "code",
   "execution_count": null,
   "metadata": {},
   "outputs": [],
   "source": [
    "ES_N1 = pd.read_csv(r'Z:\\BallSystem_AniposeReconstructions\\51_ALL_GROOMING\\48_GTACR_BRK_poking_Hleg\\pooled\\project\\ES\\BallVel\\N1ballvel.csv')\n",
    "ES_N2 = pd.read_csv(r'Z:\\BallSystem_AniposeReconstructions\\51_ALL_GROOMING\\48_GTACR_BRK_poking_Hleg\\pooled\\project\\ES\\BallVel\\N2ballvel.csv')\n",
    "ES_N3 = pd.read_csv(r'Z:\\BallSystem_AniposeReconstructions\\51_ALL_GROOMING\\48_GTACR_BRK_poking_Hleg\\pooled\\project\\ES\\BallVel\\N3ballvel.csv')\n",
    "ES_N4 = pd.read_csv(r'Z:\\BallSystem_AniposeReconstructions\\51_ALL_GROOMING\\48_GTACR_BRK_poking_Hleg\\pooled\\project\\ES\\BallVel\\N4ballvel.csv')\n",
    "ES_N5 = pd.read_csv(r'Z:\\BallSystem_AniposeReconstructions\\51_ALL_GROOMING\\48_GTACR_BRK_poking_Hleg\\pooled\\project\\ES\\BallVel\\N5ballvel.csv')\n",
    "ES_N6 = pd.read_csv(r'Z:\\BallSystem_AniposeReconstructions\\51_ALL_GROOMING\\48_GTACR_BRK_poking_Hleg\\pooled\\project\\ES\\BallVel\\N6ballvel.csv')\n",
    "ES_N7 = pd.read_csv(r'Z:\\BallSystem_AniposeReconstructions\\51_ALL_GROOMING\\48_GTACR_BRK_poking_Hleg\\pooled\\project\\ES\\BallVel\\N7ballvel.csv')\n",
    "ES_N8 = pd.read_csv(r'Z:\\BallSystem_AniposeReconstructions\\51_ALL_GROOMING\\48_GTACR_BRK_poking_Hleg\\pooled\\project\\ES\\BallVel\\N8ballvel.csv')"
   ]
  },
  {
   "cell_type": "code",
   "execution_count": null,
   "metadata": {},
   "outputs": [],
   "source": [
    "allBRK_N1 = pd.read_csv(r'Z:\\BallSystem_AniposeReconstructions\\51_ALL_GROOMING\\48_GTACR_BRK_poking_Hleg\\pooled\\project\\allBRK\\BallVel\\N1ballvel.csv')\n",
    "allBRK_N2 = pd.read_csv(r'Z:\\BallSystem_AniposeReconstructions\\51_ALL_GROOMING\\48_GTACR_BRK_poking_Hleg\\pooled\\project\\allBRK\\BallVel\\N2ballvel.csv')\n",
    "allBRK_N3 = pd.read_csv(r'Z:\\BallSystem_AniposeReconstructions\\51_ALL_GROOMING\\48_GTACR_BRK_poking_Hleg\\pooled\\project\\allBRK\\BallVel\\N3ballvel.csv')\n",
    "allBRK_N4 = pd.read_csv(r'Z:\\BallSystem_AniposeReconstructions\\51_ALL_GROOMING\\48_GTACR_BRK_poking_Hleg\\pooled\\project\\allBRK\\BallVel\\N4ballvel.csv')\n",
    "allBRK_N5 = pd.read_csv(r'Z:\\BallSystem_AniposeReconstructions\\51_ALL_GROOMING\\48_GTACR_BRK_poking_Hleg\\pooled\\project\\allBRK\\BallVel\\N5ballvel.csv')\n",
    "allBRK_N6 = pd.read_csv(r'Z:\\BallSystem_AniposeReconstructions\\51_ALL_GROOMING\\48_GTACR_BRK_poking_Hleg\\pooled\\project\\allBRK\\BallVel\\N6ballvel.csv')\n",
    "allBRK_N7 = pd.read_csv(r'Z:\\BallSystem_AniposeReconstructions\\51_ALL_GROOMING\\48_GTACR_BRK_poking_Hleg\\pooled\\project\\allBRK\\BallVel\\N7ballvel.csv')\n",
    "allBRK_N8 = pd.read_csv(r'Z:\\BallSystem_AniposeReconstructions\\51_ALL_GROOMING\\48_GTACR_BRK_poking_Hleg\\pooled\\project\\allBRK\\BallVel\\N8ballvel.csv')\n",
    "allBRK_N7 = pd.read_csv(r'Z:\\BallSystem_AniposeReconstructions\\51_ALL_GROOMING\\48_GTACR_BRK_poking_Hleg\\pooled\\project\\allBRK\\BallVel\\N7ballvel.csv')\n",
    "allBRK_N8 = pd.read_csv(r'Z:\\BallSystem_AniposeReconstructions\\51_ALL_GROOMING\\48_GTACR_BRK_poking_Hleg\\pooled\\project\\allBRK\\BallVel\\N8ballvel.csv')\n",
    "allBRK_N9 = pd.read_csv(r'Z:\\BallSystem_AniposeReconstructions\\51_ALL_GROOMING\\48_GTACR_BRK_poking_Hleg\\pooled\\project\\allBRK\\BallVel\\N9ballvel.csv')\n",
    "allBRK_N10 = pd.read_csv(r'Z:\\BallSystem_AniposeReconstructions\\51_ALL_GROOMING\\48_GTACR_BRK_poking_Hleg\\pooled\\project\\allBRK\\BallVel\\N10ballvel.csv')\n",
    "allBRK_N11 = pd.read_csv(r'Z:\\BallSystem_AniposeReconstructions\\51_ALL_GROOMING\\48_GTACR_BRK_poking_Hleg\\pooled\\project\\allBRK\\BallVel\\N11ballvel.csv')\n",
    "allBRK_N12 = pd.read_csv(r'Z:\\BallSystem_AniposeReconstructions\\51_ALL_GROOMING\\48_GTACR_BRK_poking_Hleg\\pooled\\project\\allBRK\\BallVel\\N12ballvel.csv')\n",
    "allBRK_N13 = pd.read_csv(r'Z:\\BallSystem_AniposeReconstructions\\51_ALL_GROOMING\\48_GTACR_BRK_poking_Hleg\\pooled\\project\\allBRK\\BallVel\\N13ballvel.csv')\n",
    "allBRK_N14 = pd.read_csv(r'Z:\\BallSystem_AniposeReconstructions\\51_ALL_GROOMING\\48_GTACR_BRK_poking_Hleg\\pooled\\project\\allBRK\\BallVel\\N14ballvel.csv')"
   ]
  },
  {
   "cell_type": "code",
   "execution_count": null,
   "metadata": {},
   "outputs": [],
   "source": [
    "ForeOnly_N1 = pd.read_csv(r'Z:\\BallSystem_AniposeReconstructions\\51_ALL_GROOMING\\48_GTACR_BRK_poking_Hleg\\pooled\\project\\ForeOnly\\BallVel\\N1ballvel.csv')\n",
    "ForeOnly_N2 = pd.read_csv(r'Z:\\BallSystem_AniposeReconstructions\\51_ALL_GROOMING\\48_GTACR_BRK_poking_Hleg\\pooled\\project\\ForeOnly\\BallVel\\N2ballvel.csv')\n",
    "ForeOnly_N3 = pd.read_csv(r'Z:\\BallSystem_AniposeReconstructions\\51_ALL_GROOMING\\48_GTACR_BRK_poking_Hleg\\pooled\\project\\ForeOnly\\BallVel\\N3ballvel.csv')\n",
    "ForeOnly_N4 = pd.read_csv(r'Z:\\BallSystem_AniposeReconstructions\\51_ALL_GROOMING\\48_GTACR_BRK_poking_Hleg\\pooled\\project\\ForeOnly\\BallVel\\N4ballvel.csv')\n",
    "ForeOnly_N5 = pd.read_csv(r'Z:\\BallSystem_AniposeReconstructions\\51_ALL_GROOMING\\48_GTACR_BRK_poking_Hleg\\pooled\\project\\ForeOnly\\BallVel\\N5ballvel.csv')\n",
    "ForeOnly_N6 = pd.read_csv(r'Z:\\BallSystem_AniposeReconstructions\\51_ALL_GROOMING\\48_GTACR_BRK_poking_Hleg\\pooled\\project\\ForeOnly\\BallVel\\N6ballvel.csv')\n",
    "ForeOnly_N7 = pd.read_csv(r'Z:\\BallSystem_AniposeReconstructions\\51_ALL_GROOMING\\48_GTACR_BRK_poking_Hleg\\pooled\\project\\ForeOnly\\BallVel\\N7ballvel.csv')\n",
    "ForeOnly_N8 = pd.read_csv(r'Z:\\BallSystem_AniposeReconstructions\\51_ALL_GROOMING\\48_GTACR_BRK_poking_Hleg\\pooled\\project\\ForeOnly\\BallVel\\N8ballvel.csv')\n",
    "ForeOnly_N9 = pd.read_csv(r'Z:\\BallSystem_AniposeReconstructions\\51_ALL_GROOMING\\48_GTACR_BRK_poking_Hleg\\pooled\\project\\ForeOnly\\BallVel\\N9ballvel.csv')"
   ]
  },
  {
   "cell_type": "code",
   "execution_count": null,
   "metadata": {},
   "outputs": [],
   "source": [
    "F_M_N1 = pd.read_csv(r'Z:\\BallSystem_AniposeReconstructions\\51_ALL_GROOMING\\48_GTACR_BRK_poking_Hleg\\pooled\\project\\F_M\\BallVel\\N1ballvel.csv')\n",
    "F_M_N2 = pd.read_csv(r'Z:\\BallSystem_AniposeReconstructions\\51_ALL_GROOMING\\48_GTACR_BRK_poking_Hleg\\pooled\\project\\F_M\\BallVel\\N2ballvel.csv')\n",
    "F_M_N3 = pd.read_csv(r'Z:\\BallSystem_AniposeReconstructions\\51_ALL_GROOMING\\48_GTACR_BRK_poking_Hleg\\pooled\\project\\F_M\\BallVel\\N3ballvel.csv')\n",
    "F_M_N4 = pd.read_csv(r'Z:\\BallSystem_AniposeReconstructions\\51_ALL_GROOMING\\48_GTACR_BRK_poking_Hleg\\pooled\\project\\F_M\\BallVel\\N4ballvel.csv')\n",
    "F_M_N5 = pd.read_csv(r'Z:\\BallSystem_AniposeReconstructions\\51_ALL_GROOMING\\48_GTACR_BRK_poking_Hleg\\pooled\\project\\F_M\\BallVel\\N5ballvel.csv')\n",
    "F_M_N6 = pd.read_csv(r'Z:\\BallSystem_AniposeReconstructions\\51_ALL_GROOMING\\48_GTACR_BRK_poking_Hleg\\pooled\\project\\F_M\\BallVel\\N6ballvel.csv')\n",
    "F_M_N7 = pd.read_csv(r'Z:\\BallSystem_AniposeReconstructions\\51_ALL_GROOMING\\48_GTACR_BRK_poking_Hleg\\pooled\\project\\F_M\\BallVel\\N7ballvel.csv')"
   ]
  },
  {
   "cell_type": "code",
   "execution_count": null,
   "metadata": {},
   "outputs": [],
   "source": [
    "Hind_N1 = pd.read_csv(r'Z:\\BallSystem_AniposeReconstructions\\51_ALL_GROOMING\\48_GTACR_BRK_poking_Hleg\\pooled\\project\\Hind\\BallVel\\N1ballvel.csv')\n",
    "Hind_N2 = pd.read_csv(r'Z:\\BallSystem_AniposeReconstructions\\51_ALL_GROOMING\\48_GTACR_BRK_poking_Hleg\\pooled\\project\\Hind\\BallVel\\N2ballvel.csv')\n",
    "Hind_N3 = pd.read_csv(r'Z:\\BallSystem_AniposeReconstructions\\51_ALL_GROOMING\\48_GTACR_BRK_poking_Hleg\\pooled\\project\\Hind\\BallVel\\N3ballvel.csv')\n",
    "Hind_N4 = pd.read_csv(r'Z:\\BallSystem_AniposeReconstructions\\51_ALL_GROOMING\\48_GTACR_BRK_poking_Hleg\\pooled\\project\\Hind\\BallVel\\N4ballvel.csv')\n",
    "Hind_N5 = pd.read_csv(r'Z:\\BallSystem_AniposeReconstructions\\51_ALL_GROOMING\\48_GTACR_BRK_poking_Hleg\\pooled\\project\\Hind\\BallVel\\N5ballvel.csv')\n",
    "Hind_N6 = pd.read_csv(r'Z:\\BallSystem_AniposeReconstructions\\51_ALL_GROOMING\\48_GTACR_BRK_poking_Hleg\\pooled\\project\\Hind\\BallVel\\N6ballvel.csv')\n",
    "Hind_N7 = pd.read_csv(r'Z:\\BallSystem_AniposeReconstructions\\51_ALL_GROOMING\\48_GTACR_BRK_poking_Hleg\\pooled\\project\\Hind\\BallVel\\N7ballvel.csv')\n",
    "Hind_N8 = pd.read_csv(r'Z:\\BallSystem_AniposeReconstructions\\51_ALL_GROOMING\\48_GTACR_BRK_poking_Hleg\\pooled\\project\\Hind\\BallVel\\N8ballvel.csv')"
   ]
  },
  {
   "cell_type": "code",
   "execution_count": null,
   "metadata": {},
   "outputs": [],
   "source": [
    "ES_bouts= pd.read_csv(r'Z:\\BallSystem_AniposeReconstructions\\51_ALL_GROOMING\\48_GTACR_BRK_poking_Hleg\\pooled\\project\\ES\\ES_grooming.csv')\n",
    "allBRK_bouts= pd.read_csv(r'Z:\\BallSystem_AniposeReconstructions\\51_ALL_GROOMING\\48_GTACR_BRK_poking_Hleg\\pooled\\project\\allBRK\\allBRK_grooming_updated.csv')\n",
    "ForeOnly_bouts= pd.read_csv(r'Z:\\BallSystem_AniposeReconstructions\\51_ALL_GROOMING\\48_GTACR_BRK_poking_Hleg\\pooled\\project\\ForeOnly\\ForeOnly_bouts_upated.csv')\n",
    "F_M_bouts= pd.read_csv(r'Z:\\BallSystem_AniposeReconstructions\\51_ALL_GROOMING\\48_GTACR_BRK_poking_Hleg\\pooled\\project\\F_M\\FM_Hbouts.csv')\n",
    "Hind_bouts= pd.read_csv(r'Z:\\BallSystem_AniposeReconstructions\\51_ALL_GROOMING\\48_GTACR_BRK_poking_Hleg\\pooled\\project\\Hind\\Hind_Hgrooming.csv')"
   ]
  },
  {
   "cell_type": "code",
   "execution_count": null,
   "metadata": {},
   "outputs": [],
   "source": [
    "bout_list_ES = ES_bouts['num'].unique().tolist()\n",
    "bout_list_allBRK = allBRK_bouts['num'].unique().tolist()\n",
    "bout_list_ForeOnly = ForeOnly_bouts['num'].unique().tolist()\n",
    "bout_list_F_M = F_M_bouts['num'].unique().tolist()\n",
    "bout_list_Hind = Hind_bouts['num'].unique().tolist()"
   ]
  },
  {
   "cell_type": "code",
   "execution_count": null,
   "metadata": {},
   "outputs": [],
   "source": [
    "N_list_ES = [ES_N1, ES_N2, ES_N3, ES_N4, ES_N5, ES_N6, ES_N7, ES_N8]\n",
    "names_ES = ['ES_N1', 'ES_N2', 'ES_N3', 'ES_N4', 'ES_N5', 'ES_N6', 'ES_N7', 'ES_N8']\n",
    "\n",
    "N_list_allBRK = [allBRK_N1, allBRK_N2, allBRK_N4, allBRK_N6, allBRK_N7, allBRK_N8, allBRK_N9, allBRK_N10, allBRK_N11, allBRK_N12, allBRK_N13, allBRK_N14]\n",
    "names_allBRK = ['allBRK_N1', 'allBRK_N2', 'allBRK_N4', 'allBRK_N6', 'allBRK_N7', 'allBRK_N8', 'allBRK_N9', 'allBRK_N10', 'allBRK_N11', 'allBRK_N12', 'allBRK_N13', 'allBRK_N14']\n",
    "\n",
    "N_list_ForeOnly = [ForeOnly_N1, ForeOnly_N2, ForeOnly_N3, ForeOnly_N5, ForeOnly_N6, ForeOnly_N7, ForeOnly_N8, ForeOnly_N9]\n",
    "names_ForeOnly = ['ForeOnly_N1', 'ForeOnly_N2', 'ForeOnly_N3', 'ForeOnly_N5', 'ForeOnly_N6', 'ForeOnly_N7','ForeOnly_N8', 'ForeOnly_N9']\n",
    "\n",
    "N_list_F_M = [F_M_N1, F_M_N2, F_M_N3, F_M_N4, F_M_N5, F_M_N6, F_M_N7]\n",
    "names_F_M = ['F_M_N1', 'F_M_N2', 'F_M_N3', 'F_M_N4', 'F_M_N5', 'F_M_N6', 'F_M_N7']\n",
    "\n",
    "N_list_Hind = [Hind_N1, Hind_N2, Hind_N3, Hind_N4, Hind_N5, Hind_N6, Hind_N7, Hind_N8]\n",
    "names_Hind = ['Hind_N1', 'Hind_N2', 'Hind_N3', 'Hind_N4', 'Hind_N5', 'Hind_N6', 'Hind_N7', 'Hind_N8']"
   ]
  },
  {
   "cell_type": "code",
   "execution_count": null,
   "metadata": {},
   "outputs": [],
   "source": [
    "len(names_allBRK)"
   ]
  },
  {
   "cell_type": "code",
   "execution_count": null,
   "metadata": {},
   "outputs": [],
   "source": [
    "def get_grooming_bouts (N_list, bout_list, names, bouts_df):\n",
    "\n",
    "    all_xvel = {}\n",
    "    all_yvel = {}\n",
    "    all_zvel = {}\n",
    "    for fly, bout, name in zip(N_list, bout_list, names):\n",
    "        print(\"INFO: Processing fly \" ,name)\n",
    "        fly_xvel = {}\n",
    "        fly_yvel = {}\n",
    "        fly_zvel = {}\n",
    "        bout_data = bouts_df[bouts_df['num']==bout]\n",
    "        num_bouts = len(bout_data)\n",
    "        print(\"INFO: Number of bouts: \" ,num_bouts)\n",
    "        bout_begin = bout_data['begin'].tolist()\n",
    "        bout_end = bout_data['end'].tolist()\n",
    "\n",
    "        xvel_data = fly['x_vel'].tolist()\n",
    "        yvel_data = fly['y_vel'].tolist()\n",
    "        zvel_data = fly['z_vel'].tolist()\n",
    "\n",
    "        for g in range(num_bouts):\n",
    "            temp_x_vel = xvel_data[bout_begin[g]: bout_end[g]]\n",
    "            temp_y_vel = yvel_data[bout_begin[g]: bout_end[g]]\n",
    "            temp_z_vel = zvel_data[bout_begin[g]: bout_end[g]]\n",
    "            fly_xvel[g] = temp_x_vel\n",
    "            fly_yvel[g] = temp_y_vel\n",
    "            fly_zvel[g] = temp_z_vel\n",
    "        \n",
    "        all_xvel[name] = fly_xvel\n",
    "        all_yvel[name] = fly_yvel\n",
    "        all_zvel[name] = fly_zvel\n",
    "    return all_xvel, all_yvel, all_zvel"
   ]
  },
  {
   "cell_type": "code",
   "execution_count": null,
   "metadata": {},
   "outputs": [],
   "source": [
    "ES_all_xvel, ES_all_yvel,  ES_all_zvel = get_grooming_bouts (N_list_ES, bout_list_ES, names_ES, ES_bouts)\n",
    "allBRK_all_xvel,allBRK_all_yvel,  allBRK_all_zvel = get_grooming_bouts (N_list_allBRK, bout_list_allBRK, names_allBRK, allBRK_bouts)"
   ]
  },
  {
   "cell_type": "code",
   "execution_count": null,
   "metadata": {},
   "outputs": [],
   "source": [
    "ForeOnly_all_xvel,ForeOnly_all_yvel,  ForeOnly_all_zvel = get_grooming_bouts (N_list_ForeOnly, bout_list_ForeOnly, names_ForeOnly, ForeOnly_bouts)\n",
    "F_M_all_xvel,F_M_all_yvel,  F_M_all_zvel = get_grooming_bouts (N_list_F_M, bout_list_F_M, names_F_M, F_M_bouts)\n",
    "Hind_all_xvel,Hind_all_yvel,  Hind_all_zvel = get_grooming_bouts (N_list_Hind, bout_list_Hind, names_Hind, Hind_bouts)"
   ]
  },
  {
   "cell_type": "code",
   "execution_count": null,
   "metadata": {},
   "outputs": [],
   "source": [
    "def get_boutlen(vel_dict, name_list):\n",
    "    length_list = []\n",
    "\n",
    "    for fly in name_list:\n",
    "        all_data = vel_dict[fly]\n",
    "        for b in range(len(all_data)):\n",
    "            temp_vel = all_data[b]\n",
    "            length_list.append(len(temp_vel))\n",
    "    return length_list"
   ]
  },
  {
   "cell_type": "code",
   "execution_count": null,
   "metadata": {},
   "outputs": [],
   "source": [
    "ES_len = get_boutlen(ES_all_xvel, names_ES)\n",
    "allBRK_len = get_boutlen(allBRK_all_xvel, names_allBRK)\n",
    "F_M_len = get_boutlen(F_M_all_xvel, names_F_M)\n",
    "Hind_len = get_boutlen(Hind_all_xvel, names_Hind)\n",
    "ForeOnly_len = get_boutlen(ForeOnly_all_xvel, names_ForeOnly)"
   ]
  },
  {
   "cell_type": "code",
   "execution_count": null,
   "metadata": {},
   "outputs": [],
   "source": [
    "plt.boxplot([ES_len, allBRK_len, F_M_len, Hind_len, ForeOnly_len])\n",
    "plt.xticks([1,2,3,4,5], ['ES_len', 'allBRK_len', 'F_M_len', 'Hind_len', 'ForeOnly_len'])\n",
    "plt.show()"
   ]
  },
  {
   "cell_type": "code",
   "execution_count": null,
   "metadata": {},
   "outputs": [],
   "source": [
    "print(np.percentile(ES_len, [25,50, 75]))\n",
    "print(np.percentile(allBRK_len, [25,50, 75]))\n",
    "print(np.percentile(F_M_len, [25,50, 75]))\n",
    "print(np.percentile(Hind_len, [25,50, 75]))\n",
    "print(np.percentile(ForeOnly_len, [25,50, 75]))"
   ]
  },
  {
   "cell_type": "code",
   "execution_count": null,
   "metadata": {},
   "outputs": [],
   "source": [
    "min_len = min(np.percentile(ES_len,25),\n",
    "np.percentile(allBRK_len,25),\n",
    "np.percentile(F_M_len,25),\n",
    "np.percentile(Hind_len,25),\n",
    "np.percentile(ForeOnly_len,25))\n",
    "\n",
    "min_len"
   ]
  },
  {
   "cell_type": "code",
   "execution_count": null,
   "metadata": {},
   "outputs": [],
   "source": [
    "def get_matrix(vel_dict, name_list, min_bout_len = 230, to_plot_len = 200):\n",
    "    \"\"\"get velocity matrix aligned to grooming initiation\n",
    "\n",
    "    Parameters\n",
    "    ----------\n",
    "    vel_dict : _type_\n",
    "        _description_\n",
    "    name_list : _type_\n",
    "        _description_\n",
    "    min_bout_len : int, optional\n",
    "        _description_, by default 230\n",
    "    to_plot_len : int, optional\n",
    "        _description_, by default 200\n",
    "\n",
    "    Returns\n",
    "    -------\n",
    "    _type_\n",
    "        _description_\n",
    "    \"\"\"\n",
    "    data_vel= pd.DataFrame()\n",
    "\n",
    "    for fly in name_list:\n",
    "        all_data = vel_dict[fly]\n",
    "        for b in range(len(all_data)):\n",
    "            temp_vel = all_data[b]\n",
    "\n",
    "            if len(temp_vel)>min_bout_len:\n",
    "                data_vel = pd.concat([data_vel, pd.DataFrame(temp_vel[ 30:min_bout_len])], axis = 1)\n",
    "    return data_vel\n",
    "\n",
    "\n"
   ]
  },
  {
   "cell_type": "code",
   "execution_count": null,
   "metadata": {},
   "outputs": [],
   "source": [
    "ES_xvel_df = get_matrix(ES_all_xvel, names_ES)\n",
    "ES_yvel_df = get_matrix(ES_all_yvel, names_ES)\n",
    "ES_zvel_df = get_matrix(ES_all_zvel, names_ES)\n",
    "\n",
    "allBRK_xvel_df = get_matrix(allBRK_all_xvel, names_allBRK)\n",
    "allBRK_yvel_df = get_matrix(allBRK_all_yvel, names_allBRK)\n",
    "allBRK_zvel_df = get_matrix(allBRK_all_zvel, names_allBRK)"
   ]
  },
  {
   "cell_type": "code",
   "execution_count": null,
   "metadata": {},
   "outputs": [],
   "source": [
    "ForeOnly_xvel_df = get_matrix(ForeOnly_all_xvel, names_ForeOnly)\n",
    "ForeOnly_yvel_df = get_matrix(ForeOnly_all_yvel, names_ForeOnly)\n",
    "ForeOnly_zvel_df = get_matrix(ForeOnly_all_zvel, names_ForeOnly)"
   ]
  },
  {
   "cell_type": "code",
   "execution_count": null,
   "metadata": {},
   "outputs": [],
   "source": [
    "F_M_xvel_df = get_matrix(F_M_all_xvel, names_F_M)\n",
    "F_M_yvel_df = get_matrix(F_M_all_yvel, names_F_M)\n",
    "F_M_zvel_df = get_matrix(F_M_all_zvel, names_F_M)"
   ]
  },
  {
   "cell_type": "code",
   "execution_count": null,
   "metadata": {},
   "outputs": [],
   "source": [
    "Hind_xvel_df = get_matrix(Hind_all_xvel, names_Hind)\n",
    "Hind_yvel_df = get_matrix(Hind_all_yvel, names_Hind)\n",
    "Hind_zvel_df = get_matrix(Hind_all_zvel, names_Hind)"
   ]
  },
  {
   "cell_type": "code",
   "execution_count": null,
   "metadata": {},
   "outputs": [],
   "source": [
    "allBRK_xvel_df"
   ]
  },
  {
   "cell_type": "code",
   "execution_count": null,
   "metadata": {},
   "outputs": [],
   "source": []
  },
  {
   "cell_type": "code",
   "execution_count": null,
   "metadata": {},
   "outputs": [],
   "source": []
  },
  {
   "cell_type": "code",
   "execution_count": null,
   "metadata": {},
   "outputs": [],
   "source": [
    "plt.rcParams['figure.figsize'] = (25, 8)\n",
    "fig, ax = plt.subplots(3,5, sharex = True)\n",
    "## xvel\n",
    "cmap_x = 'viridis'\n",
    "sns.heatmap(ax =ax[0,0], data = ES_xvel_df.T, cmap= cmap_x, vmin = -2, vmax = 2, cbar=False)\n",
    "ax[0,0].title.set_text('ES')\n",
    "sns.heatmap(ax = ax[0,1], data= allBRK_xvel_df.T, cmap= cmap_x, vmin = -2, vmax = 2, cbar=False)\n",
    "ax[0,1].title.set_text('all BRK')\n",
    "sns.heatmap(ax = ax[0,2], data= F_M_xvel_df.T, cmap= cmap_x, vmin = -2, vmax = 2, cbar=False)\n",
    "ax[0,2].title.set_text('Fore + Mid')\n",
    "sns.heatmap(ax = ax[0,3], data= Hind_xvel_df.T, cmap= cmap_x, vmin = -2, vmax = 2, cbar=False)\n",
    "ax[0,3].title.set_text('Hind')\n",
    "sns.heatmap(ax = ax[0,4], data= ForeOnly_xvel_df.T, cmap= cmap_x, vmin = -2, vmax = 2)\n",
    "ax[0,4].title.set_text('Fore Only')\n",
    "\n",
    "##zvel\n",
    "cmap_z = 'vlag'\n",
    "sns.heatmap(ax = ax[1,0], data= ES_zvel_df.T, cmap= cmap_z, vmin = -3, vmax = 3, cbar=False)\n",
    "sns.heatmap(ax = ax[1,1], data = allBRK_zvel_df.T, cmap= cmap_z, vmin = -3, vmax = 3, cbar=False)\n",
    "sns.heatmap(ax = ax[1,2], data = F_M_zvel_df.T, cmap= cmap_z, vmin = -3, vmax = 3, cbar=False)\n",
    "sns.heatmap(ax = ax[1,3], data = Hind_zvel_df.T, cmap= cmap_z, vmin = -3, vmax = 3, cbar=False)\n",
    "sns.heatmap(ax = ax[1,4], data = ForeOnly_zvel_df.T, cmap= cmap_z, vmin = -3, vmax = 3)\n",
    "\n",
    "##yvel\n",
    "cmap_y = 'icefire'\n",
    "sns.heatmap(ax = ax[2,0], data= ES_yvel_df.T, cmap= cmap_y, vmin = -3, vmax = 3, cbar=False)\n",
    "sns.heatmap(ax = ax[2,1], data = allBRK_yvel_df.T, cmap= cmap_y, vmin = -3, vmax = 3, cbar=False)\n",
    "sns.heatmap(ax = ax[2,2], data = F_M_yvel_df.T, cmap= cmap_y, vmin = -3, vmax = 3, cbar=False)\n",
    "sns.heatmap(ax = ax[2,3], data = Hind_yvel_df.T, cmap= cmap_y, vmin = -3, vmax = 3, cbar=False)\n",
    "sns.heatmap(ax = ax[2,4], data = ForeOnly_yvel_df.T, cmap= cmap_y, vmin = -3, vmax = 3)\n",
    "\n",
    "plt.tight_layout()"
   ]
  },
  {
   "cell_type": "code",
   "execution_count": null,
   "metadata": {},
   "outputs": [],
   "source": [
    "plt.rcParams['figure.figsize'] = (25, 8)\n",
    "fig, ax = plt.subplots(3,5, sharex = True, sharey = 'row')\n",
    "\n",
    "titles = ['ES', 'all BRK', 'Fore + Mid', 'Hind', 'Fore Only']\n",
    "x_vel_df_list = [ES_xvel_df, allBRK_xvel_df, F_M_xvel_df, Hind_xvel_df, ForeOnly_xvel_df ]\n",
    "y_vel_df_list = [ES_yvel_df, allBRK_yvel_df, F_M_yvel_df, Hind_yvel_df, ForeOnly_yvel_df ]\n",
    "z_vel_df_list = [ES_zvel_df, allBRK_zvel_df, F_M_zvel_df, Hind_zvel_df, ForeOnly_zvel_df ]\n",
    "i = 0\n",
    "for title, x_vel_df, z_vel_df, y_vel_df in zip (titles, x_vel_df_list, y_vel_df_list, z_vel_df_list):\n",
    "    \n",
    "    ax[0,i].plot(x_vel_df)\n",
    "    ax[0,i].title.set_text(title)\n",
    "\n",
    "    ax[1,i].plot(z_vel_df)\n",
    "\n",
    "    ax[2,i].plot(y_vel_df)\n",
    "    i+=1\n",
    "\n",
    "plt.tight_layout()\n",
    "plt.show()"
   ]
  },
  {
   "cell_type": "code",
   "execution_count": null,
   "metadata": {},
   "outputs": [],
   "source": [
    "plt.rcParams['figure.figsize'] = (25, 8)\n",
    "fig, ax = plt.subplots(3,5, sharex = True, sharey = 'row')\n",
    "\n",
    "titles = ['ES', 'all BRK', 'Fore + Mid', 'Hind', 'Fore Only']\n",
    "x_vel_df_list = [ES_xvel_df, allBRK_xvel_df, F_M_xvel_df, Hind_xvel_df, ForeOnly_xvel_df ]\n",
    "y_vel_df_list = [ES_yvel_df, allBRK_yvel_df, F_M_yvel_df, Hind_yvel_df, ForeOnly_yvel_df ]\n",
    "z_vel_df_list = [ES_zvel_df, allBRK_zvel_df, F_M_zvel_df, Hind_zvel_df, ForeOnly_zvel_df ]\n",
    "color_list= ['forestgreen', 'm', 'orangered', 'indigo', 'saddlebrown']\n",
    "i = 0\n",
    "for title, x_vel_df, z_vel_df, y_vel_df, color in zip (titles, x_vel_df_list, y_vel_df_list, z_vel_df_list, color_list):\n",
    "\n",
    "    ax[0,i].plot(abs(x_vel_df), color = color, alpha = 0.1)\n",
    "    ax[0,i].plot(abs(x_vel_df).mean(axis = 1), color = color)\n",
    "    ax[0,i].title.set_text(title)\n",
    "\n",
    "    ax[1,i].plot(abs(z_vel_df), color = color, alpha = 0.1)\n",
    "    ax[1,i].plot(abs(z_vel_df).mean(axis = 1), color = color)\n",
    "\n",
    "    ax[2,i].plot(abs(y_vel_df), color = color, alpha = 0.1)\n",
    "    ax[2,i].plot(abs(y_vel_df).mean(axis = 1), color = color)\n",
    "    i+=1\n",
    "\n",
    "\n",
    "plt.tight_layout()\n",
    "plt.show()"
   ]
  },
  {
   "cell_type": "code",
   "execution_count": null,
   "metadata": {},
   "outputs": [],
   "source": [
    "# plt.rcParams['figure.figsize'] = (10, 8)\n",
    "# fig, ax = plt.subplots(3,1, sharex = True, sharey = 'row')\n",
    "\n",
    "# ax[0].plot(abs(ES_xvel_df), color = 'forestgreen', alpha = 0.1)\n",
    "# ax[0].plot(abs(ES_xvel_df).mean(axis = 1), color = 'forestgreen', label = 'ES')\n",
    "\n",
    "# ax[0].plot(abs(allBRK_xvel_df), color = 'm', alpha = 0.1)\n",
    "# ax[0].plot(abs(allBRK_xvel_df).mean(axis = 1), color = 'm', label = 'allBRK')\n",
    "\n",
    "# ax[0].title.set_text('Forward Vel')\n",
    "# ax[0].legend(loc = 'upper right')\n",
    "# #############################################\n",
    "\n",
    "# ax[1].title.set_text('Angular Vel')\n",
    "# ax[1].plot(abs(ES_zvel_df), color = 'forestgreen', alpha = 0.1)\n",
    "# ax[1].plot(abs(ES_zvel_df).mean(axis = 1), color = 'forestgreen', label = 'ES')\n",
    "\n",
    "# ax[1].plot(abs(allBRK_zvel_df), color = 'm', alpha = 0.1)\n",
    "# ax[1].plot(abs(allBRK_zvel_df).mean(axis = 1), color = 'm', label = 'allBRK')\n",
    "# ##################################################\n",
    "\n",
    "# ax[2].title.set_text('Sideways Vel')\n",
    "# ax[2].plot(abs(ES_yvel_df), color = 'forestgreen', alpha = 0.1)\n",
    "# ax[2].plot(abs(ES_yvel_df).mean(axis = 1), color = 'forestgreen', label = 'ES')\n",
    "\n",
    "# ax[2].plot(abs(allBRK_yvel_df), color = 'm', alpha = 0.1)\n",
    "# ax[2].plot(abs(allBRK_yvel_df).mean(axis = 1), color = 'm', label = 'allBRK')\n",
    "# plt.tight_layout()\n",
    "# plt.show()"
   ]
  },
  {
   "cell_type": "code",
   "execution_count": null,
   "metadata": {},
   "outputs": [],
   "source": [
    "plt.rcParams['figure.figsize'] = (15, 5)"
   ]
  },
  {
   "cell_type": "code",
   "execution_count": null,
   "metadata": {},
   "outputs": [],
   "source": [
    "ES_pooled = ES_xvel_df * (1/3) +ES_yvel_df * (1/3) + ES_zvel_df\n",
    "allBRK_pooled = allBRK_xvel_df * (1/3) +allBRK_yvel_df * (1/3) + allBRK_zvel_df\n",
    "ForeOnly_pooled = ForeOnly_xvel_df * (1/3) +ForeOnly_yvel_df * (1/3) + ForeOnly_zvel_df\n",
    "Hind_pooled = Hind_xvel_df * (1/3) +Hind_yvel_df * (1/3) + Hind_zvel_df\n",
    "F_M_pooled = F_M_xvel_df * (1/3) +F_M_yvel_df * (1/3) + F_M_zvel_df\n",
    "\n",
    "\n",
    "\n",
    "df1 = pd.DataFrame(abs(ES_pooled).mean(axis = 0))\n",
    "df1.columns = ['ES']\n",
    "df1 = df1.reset_index(drop=True)\n",
    "\n",
    "df2 = pd.DataFrame(abs(allBRK_pooled).mean(axis = 0))\n",
    "df2.columns = ['allBRK']\n",
    "df2 = df2.reset_index(drop=True)\n",
    "\n",
    "df3 = pd.DataFrame(abs(F_M_pooled).mean(axis = 0))\n",
    "df3.columns = ['Fore + Mid']\n",
    "df3 = df3.reset_index(drop=True)\n",
    "\n",
    "df4 = pd.DataFrame(abs(Hind_pooled).mean(axis = 0))\n",
    "df4.columns = ['Hind']\n",
    "df4 = df4.reset_index(drop=True)\n",
    "\n",
    "df5 = pd.DataFrame(abs(ForeOnly_pooled).mean(axis = 0))\n",
    "df5.columns = ['Fore Only']\n",
    "df5 = df5.reset_index(drop=True)\n",
    "\n",
    "\n",
    "data_toplot = pd.concat([df1, df2, df3, df4, df5], axis = 1)\n",
    "sns.swarmplot(data_toplot,  palette = 'Greys')\n",
    "sns.boxplot(data_toplot, palette = 'Greys')\n",
    "plt.ylabel('velocity(rad/s)')\n",
    "\n",
    "plt.ylim(-0.2 ,3)\n",
    "# plt.savefig(r'Z:\\Divya\\TEMP_transfers\\toSB\\0_StopPAper_revision\\1_Grooming\\1_HindGrooming\\most_bouts\\Velocity.png')\n"
   ]
  },
  {
   "cell_type": "code",
   "execution_count": null,
   "metadata": {},
   "outputs": [],
   "source": [
    "# data_toplot.to_csv(r'Z:\\Divya\\TEMP_transfers\\toSB\\0_StopPAper_revision\\1_Grooming\\1_HindGrooming\\most_bouts\\All_velocities.csv')"
   ]
  },
  {
   "cell_type": "code",
   "execution_count": null,
   "metadata": {},
   "outputs": [],
   "source": [
    "df1 = pd.DataFrame(abs(ES_zvel_df).mean(axis = 0))\n",
    "df1.columns = ['ES']\n",
    "df1 = df1.reset_index(drop=True)\n",
    "\n",
    "df2 = pd.DataFrame(abs(allBRK_zvel_df).mean(axis = 0))\n",
    "df2.columns = ['allBRK']\n",
    "df2 = df2.reset_index(drop=True)\n",
    "\n",
    "df3 = pd.DataFrame(abs(F_M_zvel_df).mean(axis = 0))\n",
    "df3.columns = ['Fore + Mid']\n",
    "df3 = df3.reset_index(drop=True)\n",
    "\n",
    "df4 = pd.DataFrame(abs(Hind_zvel_df).mean(axis = 0))\n",
    "df4.columns = ['Hind']\n",
    "df4 = df4.reset_index(drop=True)\n",
    "\n",
    "df5 = pd.DataFrame(abs(ForeOnly_zvel_df).mean(axis = 0))\n",
    "df5.columns = ['Fore Only']\n",
    "df5 = df5.reset_index(drop=True)\n",
    "\n",
    "\n",
    "data_toplot = pd.concat([df1, df2, df3, df4, df5], axis = 1)\n",
    "sns.swarmplot(data_toplot,  palette = 'Greys')\n",
    "sns.boxplot(data_toplot, palette = 'Reds')\n",
    "plt.ylabel('velocity(rad/s)')\n",
    "plt.ylim(-0.2,3)"
   ]
  },
  {
   "cell_type": "code",
   "execution_count": null,
   "metadata": {},
   "outputs": [],
   "source": [
    "df1 = pd.DataFrame(abs(ES_xvel_df).mean(axis = 0))\n",
    "df1.columns = ['ES']\n",
    "df1 = df1.reset_index(drop=True)\n",
    "\n",
    "df2 = pd.DataFrame(abs(allBRK_xvel_df).mean(axis = 0))\n",
    "df2.columns = ['allBRK']\n",
    "df2 = df2.reset_index(drop=True)\n",
    "\n",
    "df3 = pd.DataFrame(abs(F_M_xvel_df).mean(axis = 0))\n",
    "df3.columns = ['Fore + Mid']\n",
    "df3 = df3.reset_index(drop=True)\n",
    "\n",
    "df4 = pd.DataFrame(abs(Hind_xvel_df).mean(axis = 0))\n",
    "df4.columns = ['Hind']\n",
    "df4 = df4.reset_index(drop=True)\n",
    "\n",
    "df5 = pd.DataFrame(abs(ForeOnly_xvel_df).mean(axis = 0))\n",
    "df5.columns = ['Fore Only']\n",
    "df5 = df5.reset_index(drop=True)\n",
    "\n",
    "\n",
    "data_toplot = pd.concat([df1, df2, df3, df4, df5], axis = 1)\n",
    "sns.swarmplot(data_toplot,  palette = 'Greys')\n",
    "sns.boxplot(data_toplot, palette = 'Greens')\n",
    "plt.ylabel('velocity(mm/s)')\n",
    "\n",
    "plt.ylim(-0.2,3.5)"
   ]
  },
  {
   "cell_type": "code",
   "execution_count": null,
   "metadata": {},
   "outputs": [],
   "source": [
    "df1 = pd.DataFrame(abs(ES_yvel_df).mean(axis = 0))\n",
    "df1.columns = ['ES']\n",
    "df1 = df1.reset_index(drop=True)\n",
    "\n",
    "df2 = pd.DataFrame(abs(allBRK_yvel_df).mean(axis = 0))\n",
    "df2.columns = ['allBRK']\n",
    "df2 = df2.reset_index(drop=True)\n",
    "\n",
    "df3 = pd.DataFrame(abs(F_M_yvel_df).mean(axis = 0))\n",
    "df3.columns = ['Fore + Mid']\n",
    "df3 = df3.reset_index(drop=True)\n",
    "\n",
    "df4 = pd.DataFrame(abs(Hind_yvel_df).mean(axis = 0))\n",
    "df4.columns = ['Hind']\n",
    "df4 = df4.reset_index(drop=True)\n",
    "\n",
    "df5 = pd.DataFrame(abs(ForeOnly_yvel_df).mean(axis = 0))\n",
    "df5.columns = ['Fore Only']\n",
    "df5 = df5.reset_index(drop=True)\n",
    "\n",
    "\n",
    "data_toplot = pd.concat([df1, df2, df3, df4, df5], axis = 1)\n",
    "sns.swarmplot(data_toplot,  palette = 'Greys')\n",
    "sns.boxplot(data_toplot, palette = 'Blues')\n",
    "plt.ylabel('velocity(mm/s)')\n",
    "\n",
    "plt.ylim(-0.2,4)"
   ]
  },
  {
   "cell_type": "code",
   "execution_count": null,
   "metadata": {},
   "outputs": [],
   "source": [
    "ES_3d = pd.concat([abs(ES_xvel_df).mean(axis = 0).reset_index(drop=True),\n",
    "           abs(ES_yvel_df).mean(axis = 0).reset_index(drop=True),\n",
    "           abs(ES_zvel_df).mean(axis = 0).reset_index(drop=True)], axis = 1)\n",
    "ES_3d.columns = ['x_vel', 'y_vel', 'z_vel']\n",
    "\n",
    "allBRK_3d = pd.concat([abs(allBRK_xvel_df).mean(axis = 0).reset_index(drop=True),\n",
    "           abs(allBRK_yvel_df).mean(axis = 0).reset_index(drop=True),\n",
    "           abs(allBRK_zvel_df).mean(axis = 0).reset_index(drop=True)], axis = 1)\n",
    "allBRK_3d.columns = ['x_vel', 'y_vel', 'z_vel']\n",
    "\n",
    "F_M_3d = pd.concat([abs(F_M_xvel_df).mean(axis = 0).reset_index(drop=True),\n",
    "           abs(F_M_yvel_df).mean(axis = 0).reset_index(drop=True),\n",
    "           abs(F_M_zvel_df).mean(axis = 0).reset_index(drop=True)], axis = 1)\n",
    "F_M_3d.columns = ['x_vel', 'y_vel', 'z_vel']\n",
    "\n",
    "ForeOnly_3d = pd.concat([abs(ForeOnly_xvel_df).mean(axis = 0).reset_index(drop=True),\n",
    "           abs(ForeOnly_yvel_df).mean(axis = 0).reset_index(drop=True),\n",
    "           abs(ForeOnly_zvel_df).mean(axis = 0).reset_index(drop=True)], axis = 1)\n",
    "ForeOnly_3d.columns = ['x_vel', 'y_vel', 'z_vel']\n",
    "\n",
    "Hind_3d = pd.concat([abs(Hind_xvel_df).mean(axis = 0).reset_index(drop=True),\n",
    "           abs(Hind_yvel_df).mean(axis = 0).reset_index(drop=True),\n",
    "           abs(Hind_zvel_df).mean(axis = 0).reset_index(drop=True)], axis = 1)\n",
    "Hind_3d.columns = ['x_vel', 'y_vel', 'z_vel']"
   ]
  },
  {
   "cell_type": "code",
   "execution_count": null,
   "metadata": {},
   "outputs": [],
   "source": [
    "plt.rcParams['figure.figsize'] = (10, 10)"
   ]
  },
  {
   "cell_type": "code",
   "execution_count": null,
   "metadata": {},
   "outputs": [],
   "source": [
    "%matplotlib inline\n",
    "\n",
    "plt.figure()\n",
    "genotypes = [ES_3d, allBRK_3d, F_M_3d, Hind_3d, ForeOnly_3d]\n",
    "labels = ['ES', 'allBRK', 'F_M', 'Hind', 'ForeOnly']\n",
    "color_list= ['g', 'r', 'm', 'b', 'k']\n",
    "markers = ['.', 'x', '.', 'x', 'x']\n",
    "\n",
    "for genotype, label, color, marker in zip (genotypes, labels, color_list, markers):\n",
    "    for p in range(len(genotype)):\n",
    "        plt.scatter(np.linalg.norm([genotype['x_vel'][p], genotype['y_vel'][p]]), \n",
    "                genotype['z_vel'][p], c=color, label=label, marker = marker) \n",
    "plt.xlabel('translational vel')\n",
    "plt.ylabel('angular vel')\n",
    "\n",
    "plt.show()\n"
   ]
  },
  {
   "cell_type": "code",
   "execution_count": null,
   "metadata": {},
   "outputs": [],
   "source": [
    "temp = []\n",
    "for p in range(len(ES_3d)):\n",
    "    temp.append(np.linalg.norm([ES_3d['x_vel'][p], ES_3d['y_vel'][p]]))\n",
    "ES_3d_new = pd.concat([ES_3d, pd.DataFrame(temp)], axis = 1)\n",
    "ES_3d_new.columns = ['x_vel', 'y_vel', 'z_vel', 'trans_vel']\n",
    "\n",
    "temp = []\n",
    "for p in range(len(allBRK_3d)):\n",
    "    temp.append(np.linalg.norm([allBRK_3d['x_vel'][p], allBRK_3d['y_vel'][p]]))\n",
    "allBRK_3d_new = pd.concat([allBRK_3d, pd.DataFrame(temp)], axis = 1)\n",
    "allBRK_3d_new.columns = ['x_vel', 'y_vel', 'z_vel', 'trans_vel']\n",
    "\n",
    "temp = []\n",
    "for p in range(len(F_M_3d)):\n",
    "    temp.append(np.linalg.norm([F_M_3d['x_vel'][p], F_M_3d['y_vel'][p]]))\n",
    "F_M_3d_new = pd.concat([F_M_3d, pd.DataFrame(temp)], axis = 1)\n",
    "F_M_3d_new.columns = ['x_vel', 'y_vel', 'z_vel', 'trans_vel']\n",
    "\n",
    "temp = []\n",
    "for p in range(len(Hind_3d)):\n",
    "    temp.append(np.linalg.norm([Hind_3d['x_vel'][p], Hind_3d['y_vel'][p]]))\n",
    "Hind_3d_new = pd.concat([Hind_3d, pd.DataFrame(temp)], axis = 1)\n",
    "Hind_3d_new.columns = ['x_vel', 'y_vel', 'z_vel', 'trans_vel']\n",
    "\n",
    "temp = []\n",
    "for p in range(len(ForeOnly_3d)):\n",
    "    temp.append(np.linalg.norm([ForeOnly_3d['x_vel'][p], ForeOnly_3d['y_vel'][p]]))\n",
    "ForeOnly_3d_new = pd.concat([ForeOnly_3d, pd.DataFrame(temp)], axis = 1)\n",
    "ForeOnly_3d_new.columns = ['x_vel', 'y_vel', 'z_vel', 'trans_vel']\n"
   ]
  },
  {
   "cell_type": "code",
   "execution_count": null,
   "metadata": {},
   "outputs": [],
   "source": [
    "plt.rcParams['figure.figsize'] = (15, 5)"
   ]
  },
  {
   "cell_type": "code",
   "execution_count": null,
   "metadata": {},
   "outputs": [],
   "source": [
    "vel_to_plot = 'trans_vel'\n",
    "data_toplot = pd.concat([ES_3d_new[vel_to_plot], \n",
    "                         allBRK_3d_new[vel_to_plot], \n",
    "                         F_M_3d_new[vel_to_plot], \n",
    "                         Hind_3d_new[vel_to_plot], \n",
    "                         ForeOnly_3d_new[vel_to_plot]], axis = 1)\n",
    "data_toplot.columns = ['ES', 'allBRK', 'F_M', 'Hind', 'ForeOnly']\n",
    "sns.swarmplot(data_toplot,  palette = 'Greys')\n",
    "sns.boxplot(data_toplot, palette = 'Reds')\n",
    "plt.ylabel('velocity(mm/s)')"
   ]
  },
  {
   "cell_type": "code",
   "execution_count": null,
   "metadata": {},
   "outputs": [],
   "source": [
    "raise TypeError('end of section')"
   ]
  },
  {
   "cell_type": "markdown",
   "metadata": {},
   "source": [
    "# Leg Joint Angles"
   ]
  },
  {
   "cell_type": "code",
   "execution_count": null,
   "metadata": {},
   "outputs": [],
   "source": [
    "data_st = pd.read_hdf(r\"C:\\1_Stop_project_allData\\Grooming\\DataStructure\\Hgroom_GtACR_ES_allBRK_FM_ForeOnly_Hind_V2_04032024.h5\")"
   ]
  },
  {
   "cell_type": "code",
   "execution_count": null,
   "metadata": {},
   "outputs": [],
   "source": [
    "data_st"
   ]
  },
  {
   "cell_type": "code",
   "execution_count": null,
   "metadata": {},
   "outputs": [],
   "source": [
    "ES_ds = data_st.loc[0]['flydata']\n",
    "allBRK_ds = data_st.loc[1]['flydata']\n",
    "\n",
    "F_M_ds = data_st.loc[2]['flydata']\n",
    "ForeOnly_ds = data_st.loc[3]['flydata']\n",
    "\n",
    "Hind_ds = data_st.loc[4]['flydata']"
   ]
  },
  {
   "cell_type": "code",
   "execution_count": null,
   "metadata": {},
   "outputs": [],
   "source": [
    "allBRK_remove = [3,5]\n",
    "allBRK_ds = allBRK_ds[~allBRK_ds.flynum.isin(allBRK_remove)]\n",
    "\n",
    "ForeOnly_remove = [4, 10]\n",
    "ForeOnly_ds = ForeOnly_ds[~ForeOnly_ds.flynum.isin(ForeOnly_remove)]"
   ]
  },
  {
   "cell_type": "code",
   "execution_count": null,
   "metadata": {},
   "outputs": [],
   "source": [
    "## H grooming => we care about the front leg joint angles==> C_flex\n",
    "\n",
    "def get_flex_ang (datast, bout_data, min_bout_len = 400):\n",
    "    L1_data_df = pd.DataFrame()\n",
    "    R1_data_df = pd.DataFrame()\n",
    "\n",
    "    L3_data_df = pd.DataFrame()\n",
    "    R3_data_df = pd.DataFrame()\n",
    "\n",
    "    # if datast['flynum'].unique().tolist() == bout_data['num'].unique().tolist() == datast['flynum'].unique().tolist():\n",
    "    \n",
    "    for fly in datast['flynum'].unique().tolist():\n",
    "        print('INFO: extracting bouts for fly ', fly)\n",
    "        flydata_temp = datast.groupby('flynum').get_group(fly).reset_index(drop=True)\n",
    "        boutdata_temp = bout_data.groupby('num').get_group(fly).reset_index(drop=True)\n",
    "        \n",
    "        for event in range(len(boutdata_temp)):\n",
    "            if (boutdata_temp['end'][event] - boutdata_temp['begin'][event] >min_bout_len ):\n",
    "                L1_ang_data = flydata_temp['L1C_flex'][boutdata_temp['begin'][event] : boutdata_temp['end'][event]]\n",
    "                R1_ang_data = flydata_temp['R1C_flex'][boutdata_temp['begin'][event] : boutdata_temp['end'][event]]\n",
    "\n",
    "                L3_ang_data = flydata_temp['L3C_flex'][boutdata_temp['begin'][event] : boutdata_temp['end'][event]]\n",
    "                R3_ang_data = flydata_temp['R3C_flex'][boutdata_temp['begin'][event] : boutdata_temp['end'][event]]\n",
    "\n",
    "                L1_data_df = pd.concat([L1_data_df, pd.DataFrame(L1_ang_data).reset_index(drop=True)], axis = 1)\n",
    "                R1_data_df = pd.concat([R1_data_df, pd.DataFrame(R1_ang_data).reset_index(drop=True)], axis = 1)\n",
    "\n",
    "                L3_data_df = pd.concat([L3_data_df, pd.DataFrame(L3_ang_data).reset_index(drop=True)], axis = 1)\n",
    "                R3_data_df = pd.concat([R3_data_df, pd.DataFrame(R3_ang_data).reset_index(drop=True)], axis = 1)\n",
    "\n",
    "\n",
    "    # else:\n",
    "    #     print('INFO: Fly numbers in data structure dont match with the velocity data')\n",
    "\n",
    "    plt.rcParams['figure.figsize'] = (15, 10)\n",
    "    fig, ax = plt.subplots(2,2, sharex = True, sharey = True)\n",
    "    H_cmap = sns.diverging_palette(145, 300, s=60, as_cmap=True)\n",
    "    sns.heatmap(data = L1_data_df.iloc[200:min_bout_len, :].T, cmap = 'vlag', ax = ax[0,0], vmin = 20, vmax = 120, cbar = False)\n",
    "    sns.heatmap(data = R1_data_df.iloc[200:min_bout_len, :].T, cmap = 'vlag', ax = ax[0,1], vmin = 20, vmax = 120, cbar = False)\n",
    "\n",
    "    sns.heatmap(data = L3_data_df.iloc[200:min_bout_len, :].T, cmap = H_cmap, ax = ax[1,0], vmin = 20, vmax = 120, cbar = False)\n",
    "    sns.heatmap(data = R3_data_df.iloc[200:min_bout_len, :].T, cmap = H_cmap, ax = ax[1,1], vmin = 20, vmax = 120, cbar = False)\n",
    "    plt.tight_layout()\n",
    "\n",
    "    # return L1_data_df.T, R1_data_df.T\n",
    "\n",
    "    return L1_data_df.T, R1_data_df.T, L3_data_df.T, R3_data_df.T"
   ]
  },
  {
   "cell_type": "code",
   "execution_count": null,
   "metadata": {},
   "outputs": [],
   "source": [
    "ES_L1_flex, ES_R1_flex,ES_L3_flex, ES_R3_flex = get_flex_ang (ES_ds, ES_bouts)"
   ]
  },
  {
   "cell_type": "code",
   "execution_count": null,
   "metadata": {},
   "outputs": [],
   "source": [
    "allBRK_L1_flex, allBRK_R1_flex, allBRK_L3_flex, allBRK_R3_flex = get_flex_ang (allBRK_ds, allBRK_bouts)"
   ]
  },
  {
   "cell_type": "code",
   "execution_count": null,
   "metadata": {},
   "outputs": [],
   "source": [
    "F_M_L1_flex, F_M_R1_flex, F_M_L3_flex, F_M_R3_flex = get_flex_ang (F_M_ds, F_M_bouts)"
   ]
  },
  {
   "cell_type": "code",
   "execution_count": null,
   "metadata": {},
   "outputs": [],
   "source": [
    "ForeOnly_L1_flex, ForeOnly_R1_flex , ForeOnly_L3_flex, ForeOnly_R3_flex = get_flex_ang (ForeOnly_ds, ForeOnly_bouts)"
   ]
  },
  {
   "cell_type": "code",
   "execution_count": null,
   "metadata": {},
   "outputs": [],
   "source": [
    "Hind_L1_flex, Hind_R1_flex , Hind_L3_flex, Hind_R3_flex = get_flex_ang (Hind_ds, Hind_bouts)"
   ]
  },
  {
   "cell_type": "code",
   "execution_count": null,
   "metadata": {},
   "outputs": [],
   "source": [
    "plt.rcParams['figure.figsize'] = (10,3)\n",
    "ES_toplot = [0,2,4,8,10,12,3,18,24, 26]\n",
    "sns.heatmap(ES_L1_flex.iloc[ES_toplot,200:400].reset_index(drop=True), cmap = 'vlag', vmin = 20, vmax = 140)\n",
    "# # plt.xticks(np.arange(200,400, 5), np.arange(0,200, 5),rotation=0)\n",
    "# plt.savefig(r'Z:\\Divya\\TEMP_transfers\\toSB\\0_StopPAper_revision\\1_Grooming\\1_HindGrooming\\HM_frontlegs\\ES.tiff', format = 'tiff', dpi = 300)\n",
    "# plt.savefig(r'Z:\\Divya\\TEMP_transfers\\toSB\\0_StopPAper_revision\\1_Grooming\\1_HindGrooming\\HM_frontlegs\\ES.eps', format = 'eps', dpi = 300)\n"
   ]
  },
  {
   "cell_type": "code",
   "execution_count": null,
   "metadata": {},
   "outputs": [],
   "source": [
    "plt.rcParams['figure.figsize'] = (10,3)\n",
    "\n",
    "sns.heatmap(ES_R3_flex.iloc[ES_toplot,200:400].reset_index(drop=True), cmap = 'vlag', vmin = 20, vmax = 140)\n",
    "# # plt.xticks(np.arange(200,400, 5), np.arange(0,200, 5),rotation=0)\n",
    "# plt.savefig(r'Z:\\Divya\\TEMP_transfers\\toSB\\0_StopPAper_revision\\1_Grooming\\1_HindGrooming\\HM_hindlegs\\ES.tiff', format = 'tiff', dpi = 300)\n",
    "# plt.savefig(r'Z:\\Divya\\TEMP_transfers\\toSB\\0_StopPAper_revision\\1_Grooming\\1_HindGrooming\\HM_hindlegs\\ES.eps', format = 'eps', dpi = 300)"
   ]
  },
  {
   "cell_type": "code",
   "execution_count": null,
   "metadata": {},
   "outputs": [],
   "source": [
    "plt.rcParams['figure.figsize'] = (10,3)\n",
    "allBRK_toplot = [4, 6, 7, 9, 11, 16, 19, 50, 51, 52]\n",
    "sns.heatmap(allBRK_L1_flex.iloc[allBRK_toplot,200:400].reset_index(drop=True), cmap = 'vlag', vmin = 20, vmax = 140)\n",
    "\n",
    "# plt.savefig(r'Z:\\Divya\\TEMP_transfers\\toSB\\0_StopPAper_revision\\1_Grooming\\1_HindGrooming\\HM\\allBRK.tiff', format = 'tiff', dpi = 300)\n",
    "# plt.savefig(r'Z:\\Divya\\TEMP_transfers\\toSB\\0_StopPAper_revision\\1_Grooming\\1_HindGrooming\\HM\\allBRK.eps', format = 'eps', dpi = 300)"
   ]
  },
  {
   "cell_type": "code",
   "execution_count": null,
   "metadata": {},
   "outputs": [],
   "source": [
    "plt.rcParams['figure.figsize'] = (10,3)\n",
    "allBRK_toplot = [4, 6, 7, 9, 11, 16, 19, 50, 51, 52]\n",
    "sns.heatmap(allBRK_R3_flex.iloc[allBRK_toplot,200:400].reset_index(drop=True), cmap = 'vlag', vmin = 20, vmax = 140)\n",
    "\n",
    "# plt.savefig(r'Z:\\Divya\\TEMP_transfers\\toSB\\0_StopPAper_revision\\1_Grooming\\1_HindGrooming\\HM_hindlegs\\allBRK.tiff', format = 'tiff', dpi = 300)\n",
    "# plt.savefig(r'Z:\\Divya\\TEMP_transfers\\toSB\\0_StopPAper_revision\\1_Grooming\\1_HindGrooming\\HM_hindlegs\\allBRK.eps', format = 'eps', dpi = 300)"
   ]
  },
  {
   "cell_type": "code",
   "execution_count": null,
   "metadata": {},
   "outputs": [],
   "source": [
    "plt.rcParams['figure.figsize'] = (10,3)\n",
    "F_M_toplot = [0,3,5,10,12,14, 17,22,28,30]\n",
    "sns.heatmap(F_M_L1_flex.iloc[F_M_toplot,200:400].reset_index(drop=True), cmap = 'vlag', vmin = 20, vmax = 140)\n",
    "\n",
    "# plt.savefig(r'Z:\\Divya\\TEMP_transfers\\toSB\\0_StopPAper_revision\\1_Grooming\\1_HindGrooming\\HM\\F_M.tiff', format = 'tiff', dpi = 300)\n",
    "# plt.savefig(r'Z:\\Divya\\TEMP_transfers\\toSB\\0_StopPAper_revision\\1_Grooming\\1_HindGrooming\\HM\\F_M.eps', format = 'eps', dpi = 300)"
   ]
  },
  {
   "cell_type": "code",
   "execution_count": null,
   "metadata": {},
   "outputs": [],
   "source": [
    "plt.rcParams['figure.figsize'] = (10,3)\n",
    "F_M_toplot = [0,3,5,10,12,14, 17,22,28,30]\n",
    "sns.heatmap(F_M_R3_flex.iloc[F_M_toplot,200:400].reset_index(drop=True), cmap = 'vlag', vmin = 20, vmax = 140)\n",
    "\n",
    "# plt.savefig(r'Z:\\Divya\\TEMP_transfers\\toSB\\0_StopPAper_revision\\1_Grooming\\1_HindGrooming\\HM_hindlegs\\F_M.tiff', format = 'tiff', dpi = 300)\n",
    "# plt.savefig(r'Z:\\Divya\\TEMP_transfers\\toSB\\0_StopPAper_revision\\1_Grooming\\1_HindGrooming\\HM_hindlegs\\F_M.eps', format = 'eps', dpi = 300)"
   ]
  },
  {
   "cell_type": "code",
   "execution_count": null,
   "metadata": {},
   "outputs": [],
   "source": [
    "plt.rcParams['figure.figsize'] = (10,3)\n",
    "Hind_toplot = [6, 7, 9, 11, 1, 15, 21, 0, 10, 23]\n",
    "sns.heatmap(Hind_L1_flex.iloc[Hind_toplot,200:400].reset_index(drop=True), cmap = 'vlag', vmin = 20, vmax = 140)\n",
    "\n",
    "# plt.savefig(r'Z:\\Divya\\TEMP_transfers\\toSB\\0_StopPAper_revision\\1_Grooming\\1_HindGrooming\\HM\\Hind.tiff', format = 'tiff', dpi = 300)\n",
    "# plt.savefig(r'Z:\\Divya\\TEMP_transfers\\toSB\\0_StopPAper_revision\\1_Grooming\\1_HindGrooming\\HM\\Hind.eps', format = 'eps', dpi = 300)"
   ]
  },
  {
   "cell_type": "code",
   "execution_count": null,
   "metadata": {},
   "outputs": [],
   "source": [
    "plt.rcParams['figure.figsize'] = (10,3)\n",
    "Hind_toplot = [6, 7, 9, 11, 1, 15, 21, 0, 10, 23]\n",
    "sns.heatmap(Hind_R3_flex.iloc[Hind_toplot,200:400].reset_index(drop=True), cmap = 'vlag', vmin = 20, vmax = 140)\n",
    "\n",
    "# plt.savefig(r'Z:\\Divya\\TEMP_transfers\\toSB\\0_StopPAper_revision\\1_Grooming\\1_HindGrooming\\HM_hindlegs\\Hind.tiff', format = 'tiff', dpi = 300)\n",
    "# plt.savefig(r'Z:\\Divya\\TEMP_transfers\\toSB\\0_StopPAper_revision\\1_Grooming\\1_HindGrooming\\HM_hindlegs\\Hind.eps', format = 'eps', dpi = 300)"
   ]
  },
  {
   "cell_type": "code",
   "execution_count": null,
   "metadata": {},
   "outputs": [],
   "source": [
    "plt.rcParams['figure.figsize'] = (10,3)\n",
    "ForeOnly_toplot = [0, 3, 5, 2, 10, 15, 16, 20, 22, 13]\n",
    "sns.heatmap(ForeOnly_L1_flex.iloc[ForeOnly_toplot,200:400].reset_index(drop=True), cmap = 'vlag', vmin = 20, vmax = 140)\n",
    "\n",
    "# plt.savefig(r'Z:\\Divya\\TEMP_transfers\\toSB\\0_StopPAper_revision\\1_Grooming\\1_HindGrooming\\HM_frontlegs\\ForeOnly.tiff', format = 'tiff', dpi = 300)\n",
    "# plt.savefig(r'Z:\\Divya\\TEMP_transfers\\toSB\\0_StopPAper_revision\\1_Grooming\\1_HindGrooming\\HM_frontlegs\\ForeOnly.eps', format = 'eps', dpi = 300)"
   ]
  },
  {
   "cell_type": "code",
   "execution_count": null,
   "metadata": {},
   "outputs": [],
   "source": [
    "\n",
    "\n",
    "sns.heatmap(ForeOnly_L3_flex.iloc[ForeOnly_toplot,200:400].reset_index(drop=True), cmap = 'vlag', vmin = 20, vmax = 140)\n",
    "\n",
    "# plt.savefig(r'Z:\\Divya\\TEMP_transfers\\toSB\\0_StopPAper_revision\\1_Grooming\\1_HindGrooming\\HM_hindlegs\\ForeOnly.tiff', format = 'tiff', dpi = 300)\n",
    "# plt.savefig(r'Z:\\Divya\\TEMP_transfers\\toSB\\0_StopPAper_revision\\1_Grooming\\1_HindGrooming\\HM_hindlegs\\ForeOnly.eps', format = 'eps', dpi = 300)"
   ]
  },
  {
   "cell_type": "markdown",
   "metadata": {},
   "source": [
    "# Variance"
   ]
  },
  {
   "cell_type": "code",
   "execution_count": null,
   "metadata": {},
   "outputs": [],
   "source": [
    "ES_std = ES_L1_flex.iloc[:, 200:400].std(axis = 1).tolist() + ES_R1_flex.iloc[:, 200:400].std(axis = 1).tolist()\n",
    "allBRK_std = allBRK_L1_flex.iloc[:, 200:400].std(axis = 1).tolist() + allBRK_R1_flex.iloc[:, 200:400].std(axis = 1).tolist()\n",
    "\n",
    "F_M_std = F_M_L1_flex.iloc[:, 200:400].std(axis = 1).tolist() + F_M_R1_flex.iloc[:, 200:400].std(axis = 1).tolist()\n",
    "\n",
    "ForeOnly_std = ForeOnly_L1_flex.iloc[:, 200:400].std(axis = 1).tolist() + ForeOnly_R1_flex.iloc[:, 200:400].std(axis = 1).tolist()\n",
    "Hind_std = Hind_L1_flex.iloc[:, 200:400].std(axis = 1).tolist() + Hind_R1_flex.iloc[:, 200:400].std(axis = 1).tolist()"
   ]
  },
  {
   "cell_type": "code",
   "execution_count": null,
   "metadata": {},
   "outputs": [],
   "source": [
    "all_std = pd.DataFrame([ES_std, allBRK_std, F_M_std, Hind_std, ForeOnly_std]).T\n",
    "all_std.columns = ['ES_std', 'allBRK_std', 'FM_std', 'Hind_std', 'ForeOnly_std']\n",
    "# all_std.to_csv(r'Z:\\Divya\\TEMP_transfers\\toSB\\0_StopPAper_revision\\1_Grooming\\1_HindGrooming\\largerbouts_min400frames\\STD_Front_C_flex.csv')"
   ]
  },
  {
   "cell_type": "code",
   "execution_count": null,
   "metadata": {},
   "outputs": [],
   "source": [
    "sns.boxplot([ES_std, allBRK_std, F_M_std, Hind_std, ForeOnly_std],palette = 'Reds')\n",
    "sns.swarmplot([ES_std, allBRK_std, F_M_std, Hind_std, ForeOnly_std ],palette = 'Greys')\n",
    "plt.xticks([0, 1,2,3,4], ['ES_std', 'allBRK_std', 'F_M_std',  'Hind_std', 'ForeOnly_std'])\n",
    "# plt.savefig(r'Z:\\Divya\\TEMP_transfers\\toSB\\0_StopPAper_revision\\1_Grooming\\1_HindGrooming\\largerbouts_min400frames\\STD_longbouts.png')"
   ]
  },
  {
   "cell_type": "code",
   "execution_count": null,
   "metadata": {},
   "outputs": [],
   "source": []
  },
  {
   "cell_type": "code",
   "execution_count": null,
   "metadata": {},
   "outputs": [],
   "source": []
  },
  {
   "cell_type": "code",
   "execution_count": null,
   "metadata": {},
   "outputs": [],
   "source": [
    "ES_var = ES_L1_flex.iloc[:, 30:230].var(axis = 1).tolist() + ES_R1_flex.iloc[:, 30:230].var(axis = 1).tolist()\n",
    "allBRK_var = allBRK_L1_flex.iloc[:, 30:230].var(axis = 1).tolist() + allBRK_R1_flex.iloc[:, 30:230].var(axis = 1).tolist()\n",
    "\n",
    "F_M_var = F_M_L1_flex.iloc[:, 30:230].var(axis = 1).tolist() + F_M_R1_flex.iloc[:, 30:230].var(axis = 1).tolist()\n",
    "\n",
    "ForeOnly_var = ForeOnly_L1_flex.iloc[:, 30:230].var(axis = 1).tolist() + ForeOnly_R1_flex.iloc[:, 30:230].var(axis = 1).tolist()\n",
    "Hind_var = Hind_L1_flex.iloc[:, 30:230].var(axis = 1).tolist() + Hind_R1_flex.iloc[:, 30:230].var(axis = 1).tolist()"
   ]
  },
  {
   "cell_type": "code",
   "execution_count": null,
   "metadata": {},
   "outputs": [],
   "source": [
    "plt.rcParams['figure.figsize'] = (15, 5)"
   ]
  },
  {
   "cell_type": "code",
   "execution_count": null,
   "metadata": {},
   "outputs": [],
   "source": [
    "sns.boxplot([ES_var, allBRK_var, F_M_var, Hind_var, ForeOnly_var],palette = 'Reds')\n",
    "sns.swarmplot([ES_var, allBRK_var, F_M_var, Hind_var, ForeOnly_var ],palette = 'Greys')\n",
    "plt.xticks([0, 1,2,3,4], ['ES_var', 'allBRK_var', 'F_M_var',  'Hind_var', 'ForeOnly_var'])\n",
    "# plt.savefig(r'Z:\\Divya\\TEMP_transfers\\toSB\\0_StopPAper_revision\\1_Grooming\\1_HindGrooming\\most_bouts\\Variance.png')"
   ]
  },
  {
   "cell_type": "code",
   "execution_count": null,
   "metadata": {},
   "outputs": [],
   "source": [
    "all_var = pd.DataFrame([ES_var, allBRK_var, F_M_var, Hind_var, ForeOnly_var]).T\n",
    "all_var.columns = ['ES_var', 'allBRK_var', 'FM_var', 'Hind_var', 'ForeOnly_var']\n",
    "# all_var.to_csv(r'Z:\\Divya\\TEMP_transfers\\toSB\\0_StopPAper_revision\\1_Grooming\\1_HindGrooming\\most_bouts\\Variance_Front_C_flex.csv')"
   ]
  }
 ],
 "metadata": {
  "kernelspec": {
   "display_name": "base",
   "language": "python",
   "name": "python3"
  },
  "language_info": {
   "codemirror_mode": {
    "name": "ipython",
    "version": 3
   },
   "file_extension": ".py",
   "mimetype": "text/x-python",
   "name": "python",
   "nbconvert_exporter": "python",
   "pygments_lexer": "ipython3",
   "version": "3.9.13"
  }
 },
 "nbformat": 4,
 "nbformat_minor": 2
}
